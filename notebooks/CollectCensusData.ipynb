{
 "cells": [
  {
   "cell_type": "code",
   "execution_count": 69,
   "metadata": {},
   "outputs": [],
   "source": [
    "# Native\n",
    "import os\n",
    "import re\n",
    "\n",
    "# Third Party\n",
    "import censusdata\n",
    "import pandas as pd"
   ]
  },
  {
   "cell_type": "code",
   "execution_count": 130,
   "metadata": {},
   "outputs": [],
   "source": [
    "survey = \"acs5\"\n",
    "year = 2018\n",
    "state = \"Missouri\"\n",
    "metro_area = \"St. Louis\""
   ]
  },
  {
   "cell_type": "code",
   "execution_count": 139,
   "metadata": {},
   "outputs": [],
   "source": [
    "MO_metro_counties = [\"Franklin\", \"Jefferson\", \"Lincoln\", \"St. Charles\", \"St. Louis City\", \"St. Louis, Warren\"]\n",
    "IL_metro_counties = [\"Bond\", \"Calhoun\", \"Clinton\", \"Jersey\", \"Macoupin\", \"Madison\", \"Monroe\", \"St. Clair\"]\n",
    "metro_counties = MO_metro_counties + IL_metro_counties"
   ]
  },
  {
   "cell_type": "code",
   "execution_count": null,
   "metadata": {},
   "outputs": [],
   "source": [
    "try:\n",
    "    census_api_key = os.environ[\"census_api_key\"]\n",
    "except:\n",
    "    census_api_key = None"
   ]
  },
  {
   "cell_type": "code",
   "execution_count": 133,
   "metadata": {
    "scrolled": true
   },
   "outputs": [
    {
     "data": {
      "text/plain": [
       "'41180'"
      ]
     },
     "execution_count": 133,
     "metadata": {},
     "output_type": "execute_result"
    }
   ],
   "source": [
    "def fetch_metro_area_code(metro_area, **kwargs):\n",
    "    geo = censusdata.censusgeo([('metropolitan statistical area/micropolitan statistical area', '*')])\n",
    "    metro_areas = censusdata.geographies(geo, survey, year)\n",
    "    for metro, code in metro_areas.items():\n",
    "        if metro.startswith(metro_area):\n",
    "            return re.search(r'\\d+$', str(code)).group()\n",
    "    return None"
   ]
  },
  {
   "cell_type": "code",
   "execution_count": 108,
   "metadata": {
    "scrolled": true
   },
   "outputs": [
    {
     "data": {
      "text/plain": [
       "'29'"
      ]
     },
     "execution_count": 108,
     "metadata": {},
     "output_type": "execute_result"
    }
   ],
   "source": [
    "def fetch_state_code(state, **kwargs): \n",
    "    response = censusdata.geographies(censusdata.censusgeo([('state', '*')]), survey, year)\n",
    "    state_values = str(response[state])\n",
    "    state_code = re.search(r\"\\d+$\", state_values)\n",
    "    return state_code.group()"
   ]
  },
  {
   "cell_type": "code",
   "execution_count": 106,
   "metadata": {},
   "outputs": [
    {
     "data": {
      "text/plain": [
       "'065'"
      ]
     },
     "execution_count": 106,
     "metadata": {},
     "output_type": "execute_result"
    }
   ],
   "source": [
    "def fetch_county_code(county, **kwargs):\n",
    "    response = censusdata.geographies(censusdata.censusgeo([('county', '*')]), survey, year)\n",
    "    county += f\" County, {state}\"\n",
    "    county_values = str(response[county])\n",
    "    county_code = re.search(r\"\\d+$\", county_values)\n",
    "    return county_code.group()"
   ]
  },
  {
   "cell_type": "code",
   "execution_count": 136,
   "metadata": {
    "scrolled": true
   },
   "outputs": [
    {
     "data": {
      "text/plain": [
       "[('Census Tract 2220, St. Louis County, Missouri', '222000'),\n",
       " ('Census Tract 2221, St. Louis County, Missouri', '222100'),\n",
       " ('Census Tract 2124, St. Louis County, Missouri', '212400'),\n",
       " ('Census Tract 2135, St. Louis County, Missouri', '213500'),\n",
       " ('Census Tract 2153.01, St. Louis County, Missouri', '215301'),\n",
       " ('Census Tract 2178.07, St. Louis County, Missouri', '217807'),\n",
       " ('Census Tract 2179.32, St. Louis County, Missouri', '217932'),\n",
       " ('Census Tract 2180.03, St. Louis County, Missouri', '218003'),\n",
       " ('Census Tract 2182.01, St. Louis County, Missouri', '218201'),\n",
       " ('Census Tract 2197, St. Louis County, Missouri', '219700'),\n",
       " ('Census Tract 2198, St. Louis County, Missouri', '219800'),\n",
       " ('Census Tract 2201, St. Louis County, Missouri', '220100'),\n",
       " ('Census Tract 2202, St. Louis County, Missouri', '220200'),\n",
       " ('Census Tract 2110, St. Louis County, Missouri', '211000'),\n",
       " ('Census Tract 2117, St. Louis County, Missouri', '211700'),\n",
       " ('Census Tract 2113.31, St. Louis County, Missouri', '211331'),\n",
       " ('Census Tract 2113.32, St. Louis County, Missouri', '211332'),\n",
       " ('Census Tract 2114.02, St. Louis County, Missouri', '211402'),\n",
       " ('Census Tract 2131.02, St. Louis County, Missouri', '213102'),\n",
       " ('Census Tract 2138, St. Louis County, Missouri', '213800'),\n",
       " ('Census Tract 2139, St. Louis County, Missouri', '213900'),\n",
       " ('Census Tract 2142, St. Louis County, Missouri', '214200'),\n",
       " ('Census Tract 2149, St. Louis County, Missouri', '214900'),\n",
       " ('Census Tract 2107.02, St. Louis County, Missouri', '210702'),\n",
       " ('Census Tract 2109.12, St. Louis County, Missouri', '210912'),\n",
       " ('Census Tract 2133, St. Louis County, Missouri', '213300'),\n",
       " ('Census Tract 2137, St. Louis County, Missouri', '213700'),\n",
       " ('Census Tract 2147, St. Louis County, Missouri', '214700'),\n",
       " ('Census Tract 2151.02, St. Louis County, Missouri', '215102'),\n",
       " ('Census Tract 2154, St. Louis County, Missouri', '215400'),\n",
       " ('Census Tract 2173, St. Louis County, Missouri', '217300'),\n",
       " ('Census Tract 2177.01, St. Louis County, Missouri', '217701'),\n",
       " ('Census Tract 2179.31, St. Louis County, Missouri', '217931'),\n",
       " ('Census Tract 2179.41, St. Louis County, Missouri', '217941'),\n",
       " ('Census Tract 2179.42, St. Louis County, Missouri', '217942'),\n",
       " ('Census Tract 2183, St. Louis County, Missouri', '218300'),\n",
       " ('Census Tract 2191, St. Louis County, Missouri', '219100'),\n",
       " ('Census Tract 2102, St. Louis County, Missouri', '210200'),\n",
       " ('Census Tract 2106, St. Louis County, Missouri', '210600'),\n",
       " ('Census Tract 2189, St. Louis County, Missouri', '218900'),\n",
       " ('Census Tract 2170, St. Louis County, Missouri', '217000'),\n",
       " ('Census Tract 2172, St. Louis County, Missouri', '217200'),\n",
       " ('Census Tract 2199, St. Louis County, Missouri', '219900'),\n",
       " ('Census Tract 2108.03, St. Louis County, Missouri', '210803'),\n",
       " ('Census Tract 2204.32, St. Louis County, Missouri', '220432'),\n",
       " ('Census Tract 2207.02, St. Louis County, Missouri', '220702'),\n",
       " ('Census Tract 2210, St. Louis County, Missouri', '221000'),\n",
       " ('Census Tract 2108.04, St. Louis County, Missouri', '210804'),\n",
       " ('Census Tract 2126, St. Louis County, Missouri', '212600'),\n",
       " ('Census Tract 2131.01, St. Louis County, Missouri', '213101'),\n",
       " ('Census Tract 2136, St. Louis County, Missouri', '213600'),\n",
       " ('Census Tract 2141, St. Louis County, Missouri', '214100'),\n",
       " ('Census Tract 2144, St. Louis County, Missouri', '214400'),\n",
       " ('Census Tract 2151.41, St. Louis County, Missouri', '215141'),\n",
       " ('Census Tract 2168, St. Louis County, Missouri', '216800'),\n",
       " ('Census Tract 2118.02, St. Louis County, Missouri', '211802'),\n",
       " ('Census Tract 2120.01, St. Louis County, Missouri', '212001'),\n",
       " ('Census Tract 2120.02, St. Louis County, Missouri', '212002'),\n",
       " ('Census Tract 2121.01, St. Louis County, Missouri', '212101'),\n",
       " ('Census Tract 2121.02, St. Louis County, Missouri', '212102'),\n",
       " ('Census Tract 2132.03, St. Louis County, Missouri', '213203'),\n",
       " ('Census Tract 2132.04, St. Louis County, Missouri', '213204'),\n",
       " ('Census Tract 2146.01, St. Louis County, Missouri', '214601'),\n",
       " ('Census Tract 2146.02, St. Louis County, Missouri', '214602'),\n",
       " ('Census Tract 2150.04, St. Louis County, Missouri', '215004'),\n",
       " ('Census Tract 2150.05, St. Louis County, Missouri', '215005'),\n",
       " ('Census Tract 2151.43, St. Louis County, Missouri', '215143'),\n",
       " ('Census Tract 2151.44, St. Louis County, Missouri', '215144'),\n",
       " ('Census Tract 2179.43, St. Louis County, Missouri', '217943'),\n",
       " ('Census Tract 2179.44, St. Louis County, Missouri', '217944'),\n",
       " ('Census Tract 2181.02, St. Louis County, Missouri', '218102'),\n",
       " ('Census Tract 2181.03, St. Louis County, Missouri', '218103'),\n",
       " ('Census Tract 2184.01, St. Louis County, Missouri', '218401'),\n",
       " ('Census Tract 2184.02, St. Louis County, Missouri', '218402'),\n",
       " ('Census Tract 2200.01, St. Louis County, Missouri', '220001'),\n",
       " ('Census Tract 2200.02, St. Louis County, Missouri', '220002'),\n",
       " ('Census Tract 2204.43, St. Louis County, Missouri', '220443'),\n",
       " ('Census Tract 2204.44, St. Louis County, Missouri', '220444'),\n",
       " ('Census Tract 2204.45, St. Louis County, Missouri', '220445'),\n",
       " ('Census Tract 2204.46, St. Louis County, Missouri', '220446'),\n",
       " ('Census Tract 2213.35, St. Louis County, Missouri', '221335'),\n",
       " ('Census Tract 2214.23, St. Louis County, Missouri', '221423'),\n",
       " ('Census Tract 2214.24, St. Louis County, Missouri', '221424'),\n",
       " ('Census Tract 2215.06, St. Louis County, Missouri', '221506'),\n",
       " ('Census Tract 2216.27, St. Louis County, Missouri', '221627'),\n",
       " ('Census Tract 2216.24, St. Louis County, Missouri', '221624'),\n",
       " ('Census Tract 2216.25, St. Louis County, Missouri', '221625'),\n",
       " ('Census Tract 2216.26, St. Louis County, Missouri', '221626'),\n",
       " ('Census Tract 2216.28, St. Louis County, Missouri', '221628'),\n",
       " ('Census Tract 2216.29, St. Louis County, Missouri', '221629'),\n",
       " ('Census Tract 2219, St. Louis County, Missouri', '221900'),\n",
       " ('Census Tract 2169, St. Louis County, Missouri', '216900'),\n",
       " ('Census Tract 2176, St. Louis County, Missouri', '217600'),\n",
       " ('Census Tract 2178.51, St. Louis County, Missouri', '217851'),\n",
       " ('Census Tract 2188, St. Louis County, Missouri', '218800'),\n",
       " ('Census Tract 2203, St. Louis County, Missouri', '220300'),\n",
       " ('Census Tract 2204.31, St. Louis County, Missouri', '220431'),\n",
       " ('Census Tract 2216.21, St. Louis County, Missouri', '221621'),\n",
       " ('Census Tract 2206.02, St. Louis County, Missouri', '220602'),\n",
       " ('Census Tract 2208.02, St. Louis County, Missouri', '220802'),\n",
       " ('Census Tract 2211, St. Louis County, Missouri', '221100'),\n",
       " ('Census Tract 2116, St. Louis County, Missouri', '211600'),\n",
       " ('Census Tract 2161, St. Louis County, Missouri', '216100'),\n",
       " ('Census Tract 2179.21, St. Louis County, Missouri', '217921'),\n",
       " ('Census Tract 2186, St. Louis County, Missouri', '218600'),\n",
       " ('Census Tract 2214.21, St. Louis County, Missouri', '221421'),\n",
       " ('Census Tract 2123, St. Louis County, Missouri', '212300'),\n",
       " ('Census Tract 2165, St. Louis County, Missouri', '216500'),\n",
       " ('Census Tract 2127, St. Louis County, Missouri', '212700'),\n",
       " ('Census Tract 2148, St. Louis County, Missouri', '214800'),\n",
       " ('Census Tract 2178.41, St. Louis County, Missouri', '217841'),\n",
       " ('Census Tract 2205.01, St. Louis County, Missouri', '220501'),\n",
       " ('Census Tract 2214.22, St. Louis County, Missouri', '221422'),\n",
       " ('Census Tract 2192, St. Louis County, Missouri', '219200'),\n",
       " ('Census Tract 2207.03, St. Louis County, Missouri', '220703'),\n",
       " ('Census Tract 2134, St. Louis County, Missouri', '213400'),\n",
       " ('Census Tract 2151.05, St. Louis County, Missouri', '215105'),\n",
       " ('Census Tract 2178.02, St. Louis County, Missouri', '217802'),\n",
       " ('Census Tract 2208.03, St. Louis County, Missouri', '220803'),\n",
       " ('Census Tract 2143, St. Louis County, Missouri', '214300'),\n",
       " ('Census Tract 2145, St. Louis County, Missouri', '214500'),\n",
       " ('Census Tract 2150.03, St. Louis County, Missouri', '215003'),\n",
       " ('Census Tract 2152.32, St. Louis County, Missouri', '215232'),\n",
       " ('Census Tract 2156, St. Louis County, Missouri', '215600'),\n",
       " ('Census Tract 2162, St. Louis County, Missouri', '216200'),\n",
       " ('Census Tract 2164, St. Louis County, Missouri', '216400'),\n",
       " ('Census Tract 2180.12, St. Louis County, Missouri', '218012'),\n",
       " ('Census Tract 2193, St. Louis County, Missouri', '219300'),\n",
       " ('Census Tract 2194, St. Louis County, Missouri', '219400'),\n",
       " ('Census Tract 2208.01, St. Louis County, Missouri', '220801'),\n",
       " ('Census Tract 2213.01, St. Louis County, Missouri', '221301'),\n",
       " ('Census Tract 2111.02, St. Louis County, Missouri', '211102'),\n",
       " ('Census Tract 2115, St. Louis County, Missouri', '211500'),\n",
       " ('Census Tract 2122, St. Louis County, Missouri', '212200'),\n",
       " ('Census Tract 2151.03, St. Louis County, Missouri', '215103'),\n",
       " ('Census Tract 2151.42, St. Louis County, Missouri', '215142'),\n",
       " ('Census Tract 2153.02, St. Louis County, Missouri', '215302'),\n",
       " ('Census Tract 2152.01, St. Louis County, Missouri', '215201'),\n",
       " ('Census Tract 2152.31, St. Louis County, Missouri', '215231'),\n",
       " ('Census Tract 2166, St. Louis County, Missouri', '216600'),\n",
       " ('Census Tract 2157, St. Louis County, Missouri', '215700'),\n",
       " ('Census Tract 2160, St. Louis County, Missouri', '216000'),\n",
       " ('Census Tract 2105.01, St. Louis County, Missouri', '210501'),\n",
       " ('Census Tract 2105.02, St. Louis County, Missouri', '210502'),\n",
       " ('Census Tract 2107.03, St. Louis County, Missouri', '210703'),\n",
       " ('Census Tract 2107.04, St. Louis County, Missouri', '210704'),\n",
       " ('Census Tract 2108.05, St. Louis County, Missouri', '210805'),\n",
       " ('Census Tract 2108.06, St. Louis County, Missouri', '210806'),\n",
       " ('Census Tract 2109.23, St. Louis County, Missouri', '210923'),\n",
       " ('Census Tract 2109.24, St. Louis County, Missouri', '210924'),\n",
       " ('Census Tract 2109.25, St. Louis County, Missouri', '210925'),\n",
       " ('Census Tract 2109.26, St. Louis County, Missouri', '210926'),\n",
       " ('Census Tract 2109.27, St. Louis County, Missouri', '210927'),\n",
       " ('Census Tract 2109.28, St. Louis County, Missouri', '210928'),\n",
       " ('Census Tract 2112.01, St. Louis County, Missouri', '211201'),\n",
       " ('Census Tract 2112.02, St. Louis County, Missouri', '211202'),\n",
       " ('Census Tract 2113.33, St. Louis County, Missouri', '211333'),\n",
       " ('Census Tract 2113.34, St. Louis County, Missouri', '211334'),\n",
       " ('Census Tract 2118.01, St. Louis County, Missouri', '211801'),\n",
       " ('Census Tract 2167, St. Louis County, Missouri', '216700'),\n",
       " ('Census Tract 2205.02, St. Louis County, Missouri', '220502'),\n",
       " ('Census Tract 2212.01, St. Louis County, Missouri', '221201'),\n",
       " ('Census Tract 2158, St. Louis County, Missouri', '215800'),\n",
       " ('Census Tract 2213.02, St. Louis County, Missouri', '221302'),\n",
       " ('Census Tract 2163, St. Louis County, Missouri', '216300'),\n",
       " ('Census Tract 2155, St. Louis County, Missouri', '215500'),\n",
       " ('Census Tract 2159, St. Louis County, Missouri', '215900'),\n",
       " ('Census Tract 2175, St. Louis County, Missouri', '217500'),\n",
       " ('Census Tract 2177.02, St. Louis County, Missouri', '217702'),\n",
       " ('Census Tract 2178.06, St. Louis County, Missouri', '217806'),\n",
       " ('Census Tract 2179.23, St. Louis County, Missouri', '217923'),\n",
       " ('Census Tract 2196, St. Louis County, Missouri', '219600'),\n",
       " ('Census Tract 2204.42, St. Louis County, Missouri', '220442'),\n",
       " ('Census Tract 2207.01, St. Louis County, Missouri', '220701'),\n",
       " ('Census Tract 2212.02, St. Louis County, Missouri', '221202'),\n",
       " ('Census Tract 2103, St. Louis County, Missouri', '210300'),\n",
       " ('Census Tract 2109.21, St. Louis County, Missouri', '210921'),\n",
       " ('Census Tract 2111.01, St. Louis County, Missouri', '211101'),\n",
       " ('Census Tract 2113.01, St. Louis County, Missouri', '211301'),\n",
       " ('Census Tract 2119, St. Louis County, Missouri', '211900'),\n",
       " ('Census Tract 2125, St. Louis County, Missouri', '212500'),\n",
       " ('Census Tract 2150.01, St. Louis County, Missouri', '215001'),\n",
       " ('Census Tract 2152.02, St. Louis County, Missouri', '215202'),\n",
       " ('Census Tract 2213.32, St. Louis County, Missouri', '221332'),\n",
       " ('Census Tract 2215.03, St. Louis County, Missouri', '221503'),\n",
       " ('Census Tract 2215.02, St. Louis County, Missouri', '221502'),\n",
       " ('Census Tract 2114.01, St. Louis County, Missouri', '211401'),\n",
       " ('Census Tract 2101, St. Louis County, Missouri', '210100'),\n",
       " ('Census Tract 2174, St. Louis County, Missouri', '217400'),\n",
       " ('Census Tract 2178.42, St. Louis County, Missouri', '217842'),\n",
       " ('Census Tract 2178.52, St. Louis County, Missouri', '217852'),\n",
       " ('Census Tract 2180.11, St. Louis County, Missouri', '218011'),\n",
       " ('Census Tract 2185, St. Louis County, Missouri', '218500'),\n",
       " ('Census Tract 2195, St. Louis County, Missouri', '219500'),\n",
       " ('Census Tract 2204.41, St. Louis County, Missouri', '220441'),\n",
       " ('Census Tract 2206.01, St. Louis County, Missouri', '220601'),\n",
       " ('Census Tract 2218, St. Louis County, Missouri', '221800'),\n",
       " ('Census Tract 2104, St. Louis County, Missouri', '210400'),\n",
       " ('Census Tract 2132.02, St. Louis County, Missouri', '213202')]"
      ]
     },
     "execution_count": 136,
     "metadata": {},
     "output_type": "execute_result"
    }
   ],
   "source": [
    "def fetch_tract_codes_by_county(state_code, county_code, **kwargs):\n",
    "    geo = censusdata.censusgeo([('state', state_code), ('county', county_code), ('tract', '*')])\n",
    "    tracts = censusdata.geographies(geo, survey, year)\n",
    "    tract_codes = []\n",
    "    for tract, code in tracts.items():\n",
    "        code = re.search(r'\\d+$', str(code)).group()\n",
    "        tract_codes.append((tract, code))\n",
    "    return tract_codes"
   ]
  },
  {
   "cell_type": "code",
   "execution_count": 141,
   "metadata": {},
   "outputs": [],
   "source": [
    "metro_code = fetch_metro_area_code(metro_area)\n",
    "mo_state_code = fetch_state_code(state)\n",
    "il_state_code = fetch_state_code(state=\"Illinois\")\n",
    "state_codes = [mo_state_code, il_state_code]"
   ]
  },
  {
   "cell_type": "markdown",
   "metadata": {},
   "source": [
    "## All Tract Codes Per County (Saint Louis, MO Metropolitan Area)"
   ]
  },
  {
   "cell_type": "code",
   "execution_count": 143,
   "metadata": {
    "scrolled": true
   },
   "outputs": [
    {
     "data": {
      "text/plain": [
       "[]"
      ]
     },
     "execution_count": 143,
     "metadata": {},
     "output_type": "execute_result"
    }
   ],
   "source": [
    "def fetch_tract_codes_by_metro(counties, state_codes,  **kwargs):\n",
    "    tract_codes = []\n",
    "    for state_code in state_codes:\n",
    "        for county in counties:\n",
    "            county_code = fetch_county_code(county)\n",
    "            tracts = fetch_tract_codes_by_county(state_code, county_code)\n",
    "            tract_codes.append(tracts)\n",
    "    return tract_codes\n",
    "fetch_tract_codes_by_metro(counties, state_codes)      "
   ]
  },
  {
   "cell_type": "code",
   "execution_count": 18,
   "metadata": {
    "scrolled": false
   },
   "outputs": [
    {
     "data": {
      "text/plain": [
       "OrderedDict([('B23025_001E',\n",
       "              {'label': 'Estimate!!Total',\n",
       "               'concept': 'EMPLOYMENT STATUS FOR THE POPULATION 16 YEARS AND OVER',\n",
       "               'predicateType': 'int'}),\n",
       "             ('B23025_002E',\n",
       "              {'label': 'Estimate!!Total!!In labor force',\n",
       "               'concept': 'EMPLOYMENT STATUS FOR THE POPULATION 16 YEARS AND OVER',\n",
       "               'predicateType': 'int'}),\n",
       "             ('B23025_003E',\n",
       "              {'label': 'Estimate!!Total!!In labor force!!Civilian labor force',\n",
       "               'concept': 'EMPLOYMENT STATUS FOR THE POPULATION 16 YEARS AND OVER',\n",
       "               'predicateType': 'int'}),\n",
       "             ('B23025_004E',\n",
       "              {'label': 'Estimate!!Total!!In labor force!!Civilian labor force!!Employed',\n",
       "               'concept': 'EMPLOYMENT STATUS FOR THE POPULATION 16 YEARS AND OVER',\n",
       "               'predicateType': 'int'}),\n",
       "             ('B23025_005E',\n",
       "              {'label': 'Estimate!!Total!!In labor force!!Civilian labor force!!Unemployed',\n",
       "               'concept': 'EMPLOYMENT STATUS FOR THE POPULATION 16 YEARS AND OVER',\n",
       "               'predicateType': 'int'}),\n",
       "             ('B23025_006E',\n",
       "              {'label': 'Estimate!!Total!!In labor force!!Armed Forces',\n",
       "               'concept': 'EMPLOYMENT STATUS FOR THE POPULATION 16 YEARS AND OVER',\n",
       "               'predicateType': 'int'}),\n",
       "             ('B23025_007E',\n",
       "              {'label': 'Estimate!!Total!!Not in labor force',\n",
       "               'concept': 'EMPLOYMENT STATUS FOR THE POPULATION 16 YEARS AND OVER',\n",
       "               'predicateType': 'int'})])"
      ]
     },
     "execution_count": 18,
     "metadata": {},
     "output_type": "execute_result"
    }
   ],
   "source": [
    "censusdata.censustable('acs5', 2018, 'B23025')"
   ]
  }
 ],
 "metadata": {
  "kernelspec": {
   "display_name": "Python 3",
   "language": "python",
   "name": "python3"
  },
  "language_info": {
   "codemirror_mode": {
    "name": "ipython",
    "version": 3
   },
   "file_extension": ".py",
   "mimetype": "text/x-python",
   "name": "python",
   "nbconvert_exporter": "python",
   "pygments_lexer": "ipython3",
   "version": "3.8.3"
  }
 },
 "nbformat": 4,
 "nbformat_minor": 4
}
