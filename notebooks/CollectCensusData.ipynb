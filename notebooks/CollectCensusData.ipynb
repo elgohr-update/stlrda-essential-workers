{
 "cells": [
  {
   "cell_type": "code",
   "execution_count": 78,
   "metadata": {},
   "outputs": [],
   "source": [
    "# Native\n",
    "import os\n",
    "import re\n",
    "import pprint\n",
    "\n",
    "# Third Party\n",
    "import censusdata\n",
    "import pandas as pd"
   ]
  },
  {
   "cell_type": "code",
   "execution_count": 79,
   "metadata": {},
   "outputs": [],
   "source": [
    "survey = \"acs5\"\n",
    "year = 2018\n",
    "state = \"Missouri\"\n",
    "metro_area = \"St. Louis\"\n",
    "MO_metro_counties = [\"Franklin\", \"Jefferson\", \"Lincoln\", \"St. Charles\", \"St. Louis city\", \"St. Louis\", \"Warren\"]\n",
    "IL_metro_counties = [\"Bond\", \"Calhoun\", \"Clinton\", \"Jersey\", \"Macoupin\", \"Madison\", \"Monroe\", \"St. Clair\"]"
   ]
  },
  {
   "cell_type": "code",
   "execution_count": 80,
   "metadata": {},
   "outputs": [],
   "source": [
    "try:\n",
    "    census_api_key = os.environ[\"census_api_key\"]\n",
    "except:\n",
    "    census_api_key = None"
   ]
  },
  {
   "cell_type": "code",
   "execution_count": 81,
   "metadata": {
    "scrolled": true
   },
   "outputs": [],
   "source": [
    "def fetch_metro_area_code(metro_area, survey=survey, year=year):\n",
    "    geo = censusdata.censusgeo([('metropolitan statistical area/micropolitan statistical area', '*')])\n",
    "    metro_areas = censusdata.geographies(geo, survey, year)\n",
    "    for metro, code in metro_areas.items():\n",
    "        if metro.startswith(metro_area):\n",
    "            return re.search(r'\\d+$', str(code)).group()\n",
    "    return None"
   ]
  },
  {
   "cell_type": "code",
   "execution_count": 82,
   "metadata": {
    "scrolled": true
   },
   "outputs": [],
   "source": [
    "def fetch_state_code(state, survey=survey, year=year): \n",
    "    response = censusdata.geographies(censusdata.censusgeo([('state', '*')]), survey, year)\n",
    "    state_values = str(response[state])\n",
    "    state_code = re.search(r\"\\d+$\", state_values)\n",
    "    return state_code.group()"
   ]
  },
  {
   "cell_type": "code",
   "execution_count": 83,
   "metadata": {},
   "outputs": [],
   "source": [
    "def fetch_county_code(county, state=state, survey=survey, year=year):\n",
    "    response = censusdata.geographies(censusdata.censusgeo([('county', '*')]), survey, year)\n",
    "    \n",
    "    try:\n",
    "        _county_ = f\"{county} County, {state}\"\n",
    "        county_values = str(response[_county_])\n",
    "    except Exception as err:\n",
    "        _county_ = f\"{county}, {state}\"\n",
    "        county_values = str(response[_county_])\n",
    "        \n",
    "    county_code = re.search(r\"\\d+$\", county_values)\n",
    "    return county_code.group()"
   ]
  },
  {
   "cell_type": "code",
   "execution_count": 84,
   "metadata": {
    "scrolled": true
   },
   "outputs": [],
   "source": [
    "def fetch_tract_codes_by_county(state_code, county_code, survey=survey, year=year):\n",
    "    geo = censusdata.censusgeo([('state', state_code), ('county', county_code), ('tract', '*')])\n",
    "    tracts = censusdata.geographies(geo, survey, year)\n",
    "    tract_codes = []\n",
    "    for tract, code in tracts.items():\n",
    "        code = re.search(r'\\d+$', str(code)).group()\n",
    "        tract_codes.append((tract, code))\n",
    "    return tract_codes"
   ]
  },
  {
   "cell_type": "markdown",
   "metadata": {},
   "source": [
    "## Metro and State Codes"
   ]
  },
  {
   "cell_type": "code",
   "execution_count": 85,
   "metadata": {},
   "outputs": [
    {
     "name": "stdout",
     "output_type": "stream",
     "text": [
      "STL Metro Code: 41180\n",
      "MO State Code: 29\n",
      "IL State Code: 17\n"
     ]
    }
   ],
   "source": [
    "metro_code = fetch_metro_area_code(metro_area)\n",
    "MO_state_code = fetch_state_code(state)\n",
    "IL_state_code = fetch_state_code(state=\"Illinois\")\n",
    "print(f\"STL Metro Code: {metro_code}\")\n",
    "print(f\"MO State Code: {MO_state_code}\")\n",
    "print(f\"IL State Code: {IL_state_code}\")"
   ]
  },
  {
   "cell_type": "markdown",
   "metadata": {},
   "source": [
    "## Missouri Counties"
   ]
  },
  {
   "cell_type": "code",
   "execution_count": 86,
   "metadata": {},
   "outputs": [
    {
     "name": "stdout",
     "output_type": "stream",
     "text": [
      "{'Saline County, Missouri': censusgeo((('state', '29'), ('county', '195'))),\n",
      " 'Madison County, Missouri': censusgeo((('state', '29'), ('county', '123'))),\n",
      " 'Wright County, Missouri': censusgeo((('state', '29'), ('county', '229'))),\n",
      " 'Vernon County, Missouri': censusgeo((('state', '29'), ('county', '217'))),\n",
      " 'Nodaway County, Missouri': censusgeo((('state', '29'), ('county', '147'))),\n",
      " 'Chariton County, Missouri': censusgeo((('state', '29'), ('county', '041'))),\n",
      " 'Grundy County, Missouri': censusgeo((('state', '29'), ('county', '079'))),\n",
      " 'Morgan County, Missouri': censusgeo((('state', '29'), ('county', '141'))),\n",
      " 'Wayne County, Missouri': censusgeo((('state', '29'), ('county', '223'))),\n",
      " 'Bollinger County, Missouri': censusgeo((('state', '29'), ('county', '017'))),\n",
      " 'Cape Girardeau County, Missouri': censusgeo((('state', '29'), ('county', '031'))),\n",
      " 'Shelby County, Missouri': censusgeo((('state', '29'), ('county', '205'))),\n",
      " 'Webster County, Missouri': censusgeo((('state', '29'), ('county', '225'))),\n",
      " 'Atchison County, Missouri': censusgeo((('state', '29'), ('county', '005'))),\n",
      " 'Bates County, Missouri': censusgeo((('state', '29'), ('county', '013'))),\n",
      " 'Benton County, Missouri': censusgeo((('state', '29'), ('county', '015'))),\n",
      " 'Carter County, Missouri': censusgeo((('state', '29'), ('county', '035'))),\n",
      " 'Dade County, Missouri': censusgeo((('state', '29'), ('county', '057'))),\n",
      " 'Linn County, Missouri': censusgeo((('state', '29'), ('county', '115'))),\n",
      " 'Howell County, Missouri': censusgeo((('state', '29'), ('county', '091'))),\n",
      " 'Johnson County, Missouri': censusgeo((('state', '29'), ('county', '101'))),\n",
      " 'Laclede County, Missouri': censusgeo((('state', '29'), ('county', '105'))),\n",
      " 'Maries County, Missouri': censusgeo((('state', '29'), ('county', '125'))),\n",
      " 'Phelps County, Missouri': censusgeo((('state', '29'), ('county', '161'))),\n",
      " 'Platte County, Missouri': censusgeo((('state', '29'), ('county', '165'))),\n",
      " 'St. Francois County, Missouri': censusgeo((('state', '29'), ('county', '187'))),\n",
      " 'Andrew County, Missouri': censusgeo((('state', '29'), ('county', '003'))),\n",
      " 'Carroll County, Missouri': censusgeo((('state', '29'), ('county', '033'))),\n",
      " 'Daviess County, Missouri': censusgeo((('state', '29'), ('county', '061'))),\n",
      " 'Knox County, Missouri': censusgeo((('state', '29'), ('county', '103'))),\n",
      " 'Marion County, Missouri': censusgeo((('state', '29'), ('county', '127'))),\n",
      " 'Osage County, Missouri': censusgeo((('state', '29'), ('county', '151'))),\n",
      " 'Ripley County, Missouri': censusgeo((('state', '29'), ('county', '181'))),\n",
      " 'Warren County, Missouri': censusgeo((('state', '29'), ('county', '219'))),\n",
      " 'Audrain County, Missouri': censusgeo((('state', '29'), ('county', '007'))),\n",
      " 'Christian County, Missouri': censusgeo((('state', '29'), ('county', '043'))),\n",
      " 'Greene County, Missouri': censusgeo((('state', '29'), ('county', '077'))),\n",
      " 'Harrison County, Missouri': censusgeo((('state', '29'), ('county', '081'))),\n",
      " 'St. Clair County, Missouri': censusgeo((('state', '29'), ('county', '185'))),\n",
      " 'Adair County, Missouri': censusgeo((('state', '29'), ('county', '001'))),\n",
      " 'Scotland County, Missouri': censusgeo((('state', '29'), ('county', '199'))),\n",
      " 'Sullivan County, Missouri': censusgeo((('state', '29'), ('county', '211'))),\n",
      " 'Clark County, Missouri': censusgeo((('state', '29'), ('county', '045'))),\n",
      " 'Jefferson County, Missouri': censusgeo((('state', '29'), ('county', '099'))),\n",
      " 'Lewis County, Missouri': censusgeo((('state', '29'), ('county', '111'))),\n",
      " 'New Madrid County, Missouri': censusgeo((('state', '29'), ('county', '143'))),\n",
      " 'Perry County, Missouri': censusgeo((('state', '29'), ('county', '157'))),\n",
      " 'Ralls County, Missouri': censusgeo((('state', '29'), ('county', '173'))),\n",
      " 'Ray County, Missouri': censusgeo((('state', '29'), ('county', '177'))),\n",
      " 'St. Louis County, Missouri': censusgeo((('state', '29'), ('county', '189'))),\n",
      " 'Stone County, Missouri': censusgeo((('state', '29'), ('county', '209'))),\n",
      " 'Barry County, Missouri': censusgeo((('state', '29'), ('county', '009'))),\n",
      " 'Boone County, Missouri': censusgeo((('state', '29'), ('county', '019'))),\n",
      " 'Cedar County, Missouri': censusgeo((('state', '29'), ('county', '039'))),\n",
      " 'Crawford County, Missouri': censusgeo((('state', '29'), ('county', '055'))),\n",
      " 'Iron County, Missouri': censusgeo((('state', '29'), ('county', '093'))),\n",
      " 'Livingston County, Missouri': censusgeo((('state', '29'), ('county', '117'))),\n",
      " 'Moniteau County, Missouri': censusgeo((('state', '29'), ('county', '135'))),\n",
      " 'Oregon County, Missouri': censusgeo((('state', '29'), ('county', '149'))),\n",
      " 'Dunklin County, Missouri': censusgeo((('state', '29'), ('county', '069'))),\n",
      " 'Pettis County, Missouri': censusgeo((('state', '29'), ('county', '159'))),\n",
      " 'Ste. Genevieve County, Missouri': censusgeo((('state', '29'), ('county', '186'))),\n",
      " 'Randolph County, Missouri': censusgeo((('state', '29'), ('county', '175'))),\n",
      " 'Franklin County, Missouri': censusgeo((('state', '29'), ('county', '071'))),\n",
      " 'Howard County, Missouri': censusgeo((('state', '29'), ('county', '089'))),\n",
      " 'Jackson County, Missouri': censusgeo((('state', '29'), ('county', '095'))),\n",
      " 'Miller County, Missouri': censusgeo((('state', '29'), ('county', '131'))),\n",
      " 'Pulaski County, Missouri': censusgeo((('state', '29'), ('county', '169'))),\n",
      " 'Putnam County, Missouri': censusgeo((('state', '29'), ('county', '171'))),\n",
      " 'Taney County, Missouri': censusgeo((('state', '29'), ('county', '213'))),\n",
      " 'Texas County, Missouri': censusgeo((('state', '29'), ('county', '215'))),\n",
      " 'Buchanan County, Missouri': censusgeo((('state', '29'), ('county', '021'))),\n",
      " 'Caldwell County, Missouri': censusgeo((('state', '29'), ('county', '025'))),\n",
      " 'Callaway County, Missouri': censusgeo((('state', '29'), ('county', '027'))),\n",
      " 'Cass County, Missouri': censusgeo((('state', '29'), ('county', '037'))),\n",
      " 'Clinton County, Missouri': censusgeo((('state', '29'), ('county', '049'))),\n",
      " 'Cooper County, Missouri': censusgeo((('state', '29'), ('county', '053'))),\n",
      " 'Dallas County, Missouri': censusgeo((('state', '29'), ('county', '059'))),\n",
      " 'Gentry County, Missouri': censusgeo((('state', '29'), ('county', '075'))),\n",
      " 'Hickory County, Missouri': censusgeo((('state', '29'), ('county', '085'))),\n",
      " 'Lincoln County, Missouri': censusgeo((('state', '29'), ('county', '113'))),\n",
      " 'Mississippi County, Missouri': censusgeo((('state', '29'), ('county', '133'))),\n",
      " 'Monroe County, Missouri': censusgeo((('state', '29'), ('county', '137'))),\n",
      " 'Newton County, Missouri': censusgeo((('state', '29'), ('county', '145'))),\n",
      " 'Ozark County, Missouri': censusgeo((('state', '29'), ('county', '153'))),\n",
      " 'Pike County, Missouri': censusgeo((('state', '29'), ('county', '163'))),\n",
      " 'St. Charles County, Missouri': censusgeo((('state', '29'), ('county', '183'))),\n",
      " 'Mercer County, Missouri': censusgeo((('state', '29'), ('county', '129'))),\n",
      " 'Clay County, Missouri': censusgeo((('state', '29'), ('county', '047'))),\n",
      " 'Dent County, Missouri': censusgeo((('state', '29'), ('county', '065'))),\n",
      " 'Worth County, Missouri': censusgeo((('state', '29'), ('county', '227'))),\n",
      " 'St. Louis city, Missouri': censusgeo((('state', '29'), ('county', '510'))),\n",
      " 'Butler County, Missouri': censusgeo((('state', '29'), ('county', '023'))),\n",
      " 'Holt County, Missouri': censusgeo((('state', '29'), ('county', '087'))),\n",
      " 'Montgomery County, Missouri': censusgeo((('state', '29'), ('county', '139'))),\n",
      " 'Stoddard County, Missouri': censusgeo((('state', '29'), ('county', '207'))),\n",
      " 'Washington County, Missouri': censusgeo((('state', '29'), ('county', '221'))),\n",
      " 'DeKalb County, Missouri': censusgeo((('state', '29'), ('county', '063'))),\n",
      " 'Lafayette County, Missouri': censusgeo((('state', '29'), ('county', '107'))),\n",
      " 'Schuyler County, Missouri': censusgeo((('state', '29'), ('county', '197'))),\n",
      " 'Camden County, Missouri': censusgeo((('state', '29'), ('county', '029'))),\n",
      " 'Jasper County, Missouri': censusgeo((('state', '29'), ('county', '097'))),\n",
      " 'McDonald County, Missouri': censusgeo((('state', '29'), ('county', '119'))),\n",
      " 'Polk County, Missouri': censusgeo((('state', '29'), ('county', '167'))),\n",
      " 'Reynolds County, Missouri': censusgeo((('state', '29'), ('county', '179'))),\n",
      " 'Scott County, Missouri': censusgeo((('state', '29'), ('county', '201'))),\n",
      " 'Barton County, Missouri': censusgeo((('state', '29'), ('county', '011'))),\n",
      " 'Cole County, Missouri': censusgeo((('state', '29'), ('county', '051'))),\n",
      " 'Gasconade County, Missouri': censusgeo((('state', '29'), ('county', '073'))),\n",
      " 'Macon County, Missouri': censusgeo((('state', '29'), ('county', '121'))),\n",
      " 'Pemiscot County, Missouri': censusgeo((('state', '29'), ('county', '155'))),\n",
      " 'Shannon County, Missouri': censusgeo((('state', '29'), ('county', '203'))),\n",
      " 'Douglas County, Missouri': censusgeo((('state', '29'), ('county', '067'))),\n",
      " 'Henry County, Missouri': censusgeo((('state', '29'), ('county', '083'))),\n",
      " 'Lawrence County, Missouri': censusgeo((('state', '29'), ('county', '109')))}\n"
     ]
    }
   ],
   "source": [
    "MO_counties = censusdata.geographies(censusdata.censusgeo([('state', MO_state_code), ('county', '*')]), survey, year)\n",
    "pprint.pp(MO_counties)"
   ]
  },
  {
   "cell_type": "markdown",
   "metadata": {},
   "source": [
    "## Illinois Counties"
   ]
  },
  {
   "cell_type": "code",
   "execution_count": null,
   "metadata": {
    "scrolled": true
   },
   "outputs": [],
   "source": [
    "IL_counties = censusdata.geographies(censusdata.censusgeo([('state', IL_state_code), ('county', '*')]), survey, year)\n",
    "pprint.pp(IL_counties)"
   ]
  },
  {
   "cell_type": "markdown",
   "metadata": {},
   "source": [
    "## Metro County Codes (Missouri and Illinois)"
   ]
  },
  {
   "cell_type": "code",
   "execution_count": 88,
   "metadata": {
    "scrolled": true
   },
   "outputs": [
    {
     "name": "stdout",
     "output_type": "stream",
     "text": [
      "{'Franklin': '071',\n",
      " 'Jefferson': '099',\n",
      " 'Lincoln': '113',\n",
      " 'St. Charles': '183',\n",
      " 'St. Louis city': '510',\n",
      " 'St. Louis': '189',\n",
      " 'Warren': '219'}\n",
      "{'Bond': '005',\n",
      " 'Calhoun': '013',\n",
      " 'Clinton': '027',\n",
      " 'Jersey': '083',\n",
      " 'Macoupin': '117',\n",
      " 'Madison': '119',\n",
      " 'Monroe': '133',\n",
      " 'St. Clair': '163'}\n"
     ]
    }
   ],
   "source": [
    "MO_metro_county_codes = [fetch_county_code(county) for county in MO_metro_counties]\n",
    "IL_metro_county_codes = [fetch_county_code(county, state=\"Illinois\") for county in IL_metro_counties]\n",
    "pprint.pp(dict(zip(MO_metro_counties, MO_metro_county_codes)))\n",
    "pprint.pp(dict(zip(IL_metro_counties, IL_metro_county_codes)))"
   ]
  },
  {
   "cell_type": "markdown",
   "metadata": {},
   "source": [
    "## Metro Tract Codes (Saint Louis) LIMIT = 10"
   ]
  },
  {
   "cell_type": "code",
   "execution_count": null,
   "metadata": {
    "scrolled": true
   },
   "outputs": [],
   "source": [
    "MO_metro_tract_codes = [fetch_tract_codes_by_county(MO_state_code, county_code) for county_code in MO_metro_county_codes]\n",
    "IL_metro_tract_codes = [fetch_tract_codes_by_county(IL_state_code, county_code) for county_code in IL_metro_county_codes]\n",
    "pprint.pp(MO_metro_tract_codes[0])\n",
    "pprint.pp(IL_metro_tract_codes)"
   ]
  },
  {
   "cell_type": "code",
   "execution_count": null,
   "metadata": {
    "scrolled": true
   },
   "outputs": [],
   "source": [
    "# censusdata.censustable('acs5', 2018, 'B24081')"
   ]
  },
  {
   "cell_type": "code",
   "execution_count": null,
   "metadata": {},
   "outputs": [],
   "source": []
  }
 ],
 "metadata": {
  "kernelspec": {
   "display_name": "Python 3",
   "language": "python",
   "name": "python3"
  },
  "language_info": {
   "codemirror_mode": {
    "name": "ipython",
    "version": 3
   },
   "file_extension": ".py",
   "mimetype": "text/x-python",
   "name": "python",
   "nbconvert_exporter": "python",
   "pygments_lexer": "ipython3",
   "version": "3.8.3"
  }
 },
 "nbformat": 4,
 "nbformat_minor": 4
}
