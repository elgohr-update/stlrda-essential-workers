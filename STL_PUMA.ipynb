{
 "cells": [
  {
   "cell_type": "code",
   "execution_count": 1,
   "metadata": {},
   "outputs": [],
   "source": [
    "import pandas as pd\n",
    "import requests\n",
    "\n",
    "from pprint import pprint\n",
    "from resources.api_keys import census_api_key\n",
    "\n",
    "pd.set_option('display.expand_frame_repr', False)\n",
    "pd.set_option('display.precision', 2)\n",
    "pd.options.display.max_columns = None\n",
    "pd.options.display.max_rows = 40"
   ]
  },
  {
   "cell_type": "code",
   "execution_count": 45,
   "metadata": {},
   "outputs": [],
   "source": [
    "base_url = 'https://api.census.gov/data/2018/acs/acs5/pums?get='\n",
    "weighting = 'PWGTP,'\n",
    "variable_list = ['SEX', 'AGEP', 'HICOV', 'R65', 'R18', 'WKHP', 'JWTR']\n",
    "industries = '&INDP=0170&INDP=0180&INDP=0190&INDP=0270&INDP=0280&INDP=0290&INDP=0370&INDP=0380&INDP=0390&INDP=0470&INDP=0490&INDP=0570&INDP=0580&INDP=0590&INDP=0670&INDP=0680&INDP=0690&INDP=0770&INDP=1070&INDP=1080&INDP=1090&INDP=1170&INDP=1180&INDP=1190&INDP=1270&INDP=1280&INDP=1290&INDP=1370&INDP=1390&INDP=1470&INDP=1480&INDP=1490&INDP=1570&INDP=1590&INDP=1670&INDP=1691&INDP=1770&INDP=1790&INDP=1870&INDP=1880&INDP=1890&INDP=1990&INDP=2070&INDP=2090&INDP=2170&INDP=2180&INDP=2190&INDP=2270&INDP=2280&INDP=2290&INDP=2370&INDP=2380&INDP=2390&INDP=2470&INDP=2480&INDP=2490&INDP=2570&INDP=2590&INDP=2670&INDP=2680&INDP=2690&INDP=2770&INDP=2780&INDP=2790&INDP=2870&INDP=2880&INDP=2890&INDP=2970&INDP=2980&INDP=2990&INDP=3070&INDP=3080&INDP=3095&INDP=3170&INDP=3180&INDP=3291&INDP=3365&INDP=3370&INDP=3380&INDP=3390&INDP=3470&INDP=3490&INDP=3570&INDP=3580&INDP=3590&INDP=3670&INDP=3680&INDP=3690&INDP=3770&INDP=3780&INDP=3790&INDP=3875&INDP=3895&INDP=3960&INDP=3970&INDP=3980&INDP=3990&INDP=4070&INDP=4080&INDP=4090&INDP=4170&INDP=4180&INDP=4195&INDP=4265&INDP=4270&INDP=4280&INDP=4290&INDP=4370&INDP=4380&INDP=4390&INDP=4470&INDP=4480&INDP=4490&INDP=4560&INDP=4570&INDP=4580&INDP=4585&INDP=4590&INDP=4670&INDP=4680&INDP=4690&INDP=4770&INDP=4780&INDP=4795&INDP=4870&INDP=4880&INDP=4890&INDP=4971&INDP=4972&INDP=4980&INDP=4990&INDP=5070&INDP=5080&INDP=5090&INDP=5170&INDP=5180&INDP=5190&INDP=5275&INDP=5280&INDP=5295&INDP=5370&INDP=5381&INDP=5391&INDP=5470&INDP=5480&INDP=5490&INDP=5570&INDP=5580&INDP=5593&INDP=5670&INDP=5680&INDP=5690&INDP=5790&INDP=6070&INDP=6080&INDP=6090&INDP=6170&INDP=6180&INDP=6190&INDP=6270&INDP=6280&INDP=6290&INDP=6370&INDP=6380&INDP=6390&INDP=6470&INDP=6480&INDP=6490&INDP=6570&INDP=6590&INDP=6670&INDP=6672&INDP=6680&INDP=6690&INDP=6695&INDP=6770&INDP=6780&INDP=6870&INDP=6880&INDP=6890&INDP=6970&INDP=6991&INDP=6992&INDP=7071&INDP=7072&INDP=7080&INDP=7181&INDP=7190&INDP=7270&INDP=7280&INDP=7290&INDP=7370&INDP=7380&INDP=7390&INDP=7460&INDP=7470&INDP=7480&INDP=7490&INDP=7570&INDP=7580&INDP=7590&INDP=7670&INDP=7680&INDP=7690&INDP=7770&INDP=7780&INDP=7790&INDP=7860&INDP=7870&INDP=7880&INDP=7890&INDP=7970&INDP=7980&INDP=7990&INDP=8070&INDP=8080&INDP=8090&INDP=8170&INDP=8180&INDP=8191&INDP=8192&INDP=8270&INDP=8290&INDP=8370&INDP=8380&INDP=8390&INDP=8470&INDP=8561&INDP=8562&INDP=8563&INDP=8564&INDP=8570&INDP=8580&INDP=8590&INDP=8660&INDP=8670&INDP=8680&INDP=8690&INDP=8770&INDP=8780&INDP=8790&INDP=8870&INDP=8891&INDP=8970&INDP=8980&INDP=8990&INDP=9070&INDP=9080&INDP=9090&INDP=9160&INDP=9170&INDP=9180&INDP=9190&INDP=9290&INDP=9370&INDP=9380&INDP=9390&INDP=9470&INDP=9480&INDP=9490&INDP=9570&INDP=9590&INDP=9670&INDP=9680&INDP=9690&INDP=9770&INDP=9780&INDP=9790&INDP=9870&INDP=9920'\n",
    "geo = '&ucgid=7950000US2901801,7950000US2901802,7950000US2901803,7950000US2901804,7950000US2901805,7950000US2901806,7950000US2901807,7950000US2901808,7950000US2901901,7950000US2901902'"
   ]
  },
  {
   "cell_type": "code",
   "execution_count": 3,
   "metadata": {},
   "outputs": [],
   "source": [
    "Grocery_Convenience_DrugStores = ['4470', '4971', '4972', '5070', '5391']\n",
    "Public_Transit = ['6080', '6180']\n",
    "Trucking_Warehouse_PostalService = ['6170', '6390', '6370']\n",
    "Building_Cleaning_Services = ['7690']\n",
    "Health_Care = ['7970', '8090', '8170', '8180', '8191', '8192', '8270', '8290']\n",
    "ChildCare_SocialServices = ['8370', '8380', '8470']\n",
    "\n",
    "frontline_industries = Grocery_Convenience_DrugStores + Public_Transit + Trucking_Warehouse_PostalService + Building_Cleaning_Services + Health_Care + ChildCare_SocialServices"
   ]
  },
  {
   "cell_type": "code",
   "execution_count": 4,
   "metadata": {},
   "outputs": [],
   "source": [
    "def convert_industry_codes(df):\n",
    "    df.replace(to_replace = {'4470':'Convenience_Stores', '4971':'Convenience_Stores', '4972':'Convenience_Stores', '5070':'Convenience_Stores', '5391':'Convenience_Stores'\n",
    "                                         ,'6080':'Public_Transit', '6180':'Public_Transit'\n",
    "                                         ,'6170':'Postal_Service', '6390':'Postal_Service', '6370':'Postal_Service'\n",
    "                                         ,'7690':'Building_Cleaning'\n",
    "                                         ,'7970':'Health_Care', '8090':'Health_Care', '8170':'Health_Care', '8180':'Health_Care', '8191':'Health_Care', '8192':'Health_Care', '8270':'Health_Care', '8290':'Health_Care'\n",
    "                                         ,'8370':'Child_Care', '8380':'Child_Care', '8470':'Child_Care'}\n",
    "                   , value = None\n",
    "                   , inplace = True)\n",
    "    return df"
   ]
  },
  {
   "cell_type": "code",
   "execution_count": 5,
   "metadata": {},
   "outputs": [],
   "source": [
    "# df = dataframe passed in. Should be 2 columns. (var, 'INDP')\n",
    "# var = lable on column var which contains 2 kinds of values to emulate a boolean \n",
    "#    (what matters is that the value for fieldT is less than the value for fieldF)\n",
    "# fieldT = lable for result column which counts the % of total values in column var where value = fieldT\n",
    "# fieldF = lable for result column which counts the % of total values in column var where value = fieldF\n",
    "\n",
    "def format_dataframes(df, var, fieldT, fieldF):\n",
    "\n",
    "    fieldFp = '% ' + fieldF\n",
    "    fieldTp = '% ' + fieldT\n",
    "    \n",
    "    #create dataframe for all industries\n",
    "    df_all = df.groupby(df[var]).size()\n",
    "    df_all = df_all.reset_index()\n",
    "    df_all = df_all.T\n",
    "    df_all = df_all.rename(columns={0: fieldT, 1: fieldF})\n",
    "    df_all = df_all.rename(index={0: \"All_Industries\"})\n",
    "    df_all = df_all.drop(var)\n",
    "    df_all['Total'] = df_all[fieldF] + df_all[fieldT]\n",
    "    \n",
    "    #create dataframe for all frontline industries\n",
    "    df = df.loc[df['INDP'].isin(frontline_industries)]\n",
    "    \n",
    "    df_front = df.groupby(df[var]).size()\n",
    "    df_front = df_front.reset_index()\n",
    "    df_front = df_front.T\n",
    "    df_front = df_front.rename(columns={0: fieldT, 1: fieldF})\n",
    "    df_front = df_front.rename(index={0: \"Frontline_Industries\"})\n",
    "    df_front = df_front.drop(var)\n",
    "    df_front['Total'] = df_front[fieldF] + df_front[fieldT]\n",
    "    \n",
    "    #create dataframe for specific frontline industries\n",
    "    convert_industry_codes(df)\n",
    "    \n",
    "    df = df.groupby(['INDP', var]).size()\n",
    "    df = df.unstack(var)\n",
    "    df.columns=[fieldT, fieldF]\n",
    "    df.fillna(0, inplace = True)\n",
    "    df['Total'] = df[fieldF] + df[fieldT]\n",
    "    \n",
    "    #combine dataframes\n",
    "    df_combined = pd.concat([df_all, df_front, df])\n",
    "    df_combined[fieldFp] = ((df_combined[fieldF] / df_combined['Total']) * 100).apply(lambda x: round(x, 1))\n",
    "    df_combined[fieldTp] = ((df_combined[fieldT] / df_combined['Total']) * 100).apply(lambda x: round(x, 1))\n",
    "    df_combined = df_combined.reset_index()\n",
    "    \n",
    "    df_final = pd.DataFrame(df_combined[['index', 'Total', fieldTp, fieldFp]])\n",
    "    df_final.columns = ['Industry', 'Total', fieldTp, fieldFp]\n",
    "    \n",
    "    return (df_all, df_front, df, df_final)\n",
    "    #return (df_final)"
   ]
  },
  {
   "cell_type": "code",
   "execution_count": 46,
   "metadata": {},
   "outputs": [],
   "source": [
    "dataframelist = []\n",
    "for variable in variable_list:\n",
    "    API_REQUEST = base_url+variable+industries+geo\n",
    "    get_data = requests.get(API_REQUEST).json()\n",
    "    df = pd.DataFrame(get_data, columns=get_data.pop(0))\n",
    "    dataframelist.append(df)\n"
   ]
  },
  {
   "cell_type": "code",
   "execution_count": 66,
   "metadata": {},
   "outputs": [
    {
     "data": {
      "text/plain": [
       "[      JWTR  INDP  PUMA  ST\n",
       " 0        1  8191  1808  29\n",
       " 1        1  7670  1808  29\n",
       " 2        1  7670  1808  29\n",
       " 3        1  8590  1901  29\n",
       " 4        1  7270  1902  29\n",
       " ...    ...   ...   ...  ..\n",
       " 34200    1  7590  1802  29\n",
       " 34201    0  6570  1802  29\n",
       " 34202    1  9480  1808  29\n",
       " 34203    0  4470  1808  29\n",
       " 34204    1  8191  1902  29\n",
       " \n",
       " [34205 rows x 4 columns]]"
      ]
     },
     "execution_count": 66,
     "metadata": {},
     "output_type": "execute_result"
    }
   ],
   "source": [
    "dataframelist"
   ]
  },
  {
   "cell_type": "markdown",
   "metadata": {},
   "source": [
    "## Gender (SEX)##"
   ]
  },
  {
   "cell_type": "code",
   "execution_count": 48,
   "metadata": {},
   "outputs": [],
   "source": [
    "popgender = dataframelist.pop(0)"
   ]
  },
  {
   "cell_type": "code",
   "execution_count": 49,
   "metadata": {},
   "outputs": [],
   "source": [
    "gender = popgender[['SEX','INDP']]\n",
    "gender_df = format_dataframes(gender, 'SEX', 'Male', 'Female')"
   ]
  },
  {
   "cell_type": "code",
   "execution_count": 50,
   "metadata": {},
   "outputs": [
    {
     "data": {
      "text/html": [
       "<div>\n",
       "<style scoped>\n",
       "    .dataframe tbody tr th:only-of-type {\n",
       "        vertical-align: middle;\n",
       "    }\n",
       "\n",
       "    .dataframe tbody tr th {\n",
       "        vertical-align: top;\n",
       "    }\n",
       "\n",
       "    .dataframe thead th {\n",
       "        text-align: right;\n",
       "    }\n",
       "</style>\n",
       "<table border=\"1\" class=\"dataframe\">\n",
       "  <thead>\n",
       "    <tr style=\"text-align: right;\">\n",
       "      <th></th>\n",
       "      <th>Industry</th>\n",
       "      <th>Total</th>\n",
       "      <th>% Male</th>\n",
       "      <th>% Female</th>\n",
       "    </tr>\n",
       "  </thead>\n",
       "  <tbody>\n",
       "    <tr>\n",
       "      <th>0</th>\n",
       "      <td>All_Industries</td>\n",
       "      <td>34205</td>\n",
       "      <td>49.1</td>\n",
       "      <td>50.9</td>\n",
       "    </tr>\n",
       "    <tr>\n",
       "      <th>1</th>\n",
       "      <td>Frontline_Industries</td>\n",
       "      <td>7232</td>\n",
       "      <td>33.7</td>\n",
       "      <td>66.3</td>\n",
       "    </tr>\n",
       "    <tr>\n",
       "      <th>2</th>\n",
       "      <td>Building_Cleaning</td>\n",
       "      <td>267</td>\n",
       "      <td>55.4</td>\n",
       "      <td>44.6</td>\n",
       "    </tr>\n",
       "    <tr>\n",
       "      <th>3</th>\n",
       "      <td>Child_Care</td>\n",
       "      <td>802</td>\n",
       "      <td>14.5</td>\n",
       "      <td>85.5</td>\n",
       "    </tr>\n",
       "    <tr>\n",
       "      <th>4</th>\n",
       "      <td>Convenience_Stores</td>\n",
       "      <td>1312</td>\n",
       "      <td>49.7</td>\n",
       "      <td>50.3</td>\n",
       "    </tr>\n",
       "    <tr>\n",
       "      <th>5</th>\n",
       "      <td>Health_Care</td>\n",
       "      <td>4083</td>\n",
       "      <td>24.7</td>\n",
       "      <td>75.3</td>\n",
       "    </tr>\n",
       "    <tr>\n",
       "      <th>6</th>\n",
       "      <td>Postal_Service</td>\n",
       "      <td>592</td>\n",
       "      <td>70.6</td>\n",
       "      <td>29.4</td>\n",
       "    </tr>\n",
       "    <tr>\n",
       "      <th>7</th>\n",
       "      <td>Public_Transit</td>\n",
       "      <td>176</td>\n",
       "      <td>51.1</td>\n",
       "      <td>48.9</td>\n",
       "    </tr>\n",
       "  </tbody>\n",
       "</table>\n",
       "</div>"
      ],
      "text/plain": [
       "               Industry  Total  % Male  % Female\n",
       "0        All_Industries  34205    49.1      50.9\n",
       "1  Frontline_Industries   7232    33.7      66.3\n",
       "2     Building_Cleaning    267    55.4      44.6\n",
       "3            Child_Care    802    14.5      85.5\n",
       "4    Convenience_Stores   1312    49.7      50.3\n",
       "5           Health_Care   4083    24.7      75.3\n",
       "6        Postal_Service    592    70.6      29.4\n",
       "7        Public_Transit    176    51.1      48.9"
      ]
     },
     "execution_count": 50,
     "metadata": {},
     "output_type": "execute_result"
    }
   ],
   "source": [
    "gender_df[3]"
   ]
  },
  {
   "cell_type": "markdown",
   "metadata": {},
   "source": [
    "## Age 50+ (AGEP)##"
   ]
  },
  {
   "cell_type": "code",
   "execution_count": 51,
   "metadata": {},
   "outputs": [],
   "source": [
    "popage = dataframelist.pop(0)"
   ]
  },
  {
   "cell_type": "code",
   "execution_count": 52,
   "metadata": {},
   "outputs": [
    {
     "name": "stderr",
     "output_type": "stream",
     "text": [
      "<ipython-input-52-6387acf0ae90>:2: SettingWithCopyWarning: \n",
      "A value is trying to be set on a copy of a slice from a DataFrame.\n",
      "Try using .loc[row_indexer,col_indexer] = value instead\n",
      "\n",
      "See the caveats in the documentation: http://pandas.pydata.org/pandas-docs/stable/user_guide/indexing.html#returning-a-view-versus-a-copy\n",
      "  age['AGEP'] = pd.to_numeric(age['AGEP'])\n"
     ]
    }
   ],
   "source": [
    "age = popage[['AGEP','INDP']]\n",
    "age['AGEP'] = pd.to_numeric(age['AGEP'])\n",
    "age.loc[age['AGEP'] < 50, 'AGEP'] = 2\n",
    "age.loc[age['AGEP'] >= 50, 'AGEP'] = 1\n",
    "age_df =  format_dataframes(age, 'AGEP', '50+', 'Under 50')"
   ]
  },
  {
   "cell_type": "code",
   "execution_count": 53,
   "metadata": {},
   "outputs": [
    {
     "data": {
      "text/html": [
       "<div>\n",
       "<style scoped>\n",
       "    .dataframe tbody tr th:only-of-type {\n",
       "        vertical-align: middle;\n",
       "    }\n",
       "\n",
       "    .dataframe tbody tr th {\n",
       "        vertical-align: top;\n",
       "    }\n",
       "\n",
       "    .dataframe thead th {\n",
       "        text-align: right;\n",
       "    }\n",
       "</style>\n",
       "<table border=\"1\" class=\"dataframe\">\n",
       "  <thead>\n",
       "    <tr style=\"text-align: right;\">\n",
       "      <th></th>\n",
       "      <th>Industry</th>\n",
       "      <th>Total</th>\n",
       "      <th>% 50+</th>\n",
       "      <th>% Under 50</th>\n",
       "    </tr>\n",
       "  </thead>\n",
       "  <tbody>\n",
       "    <tr>\n",
       "      <th>0</th>\n",
       "      <td>All_Industries</td>\n",
       "      <td>34205</td>\n",
       "      <td>41.3</td>\n",
       "      <td>58.7</td>\n",
       "    </tr>\n",
       "    <tr>\n",
       "      <th>1</th>\n",
       "      <td>Frontline_Industries</td>\n",
       "      <td>7232</td>\n",
       "      <td>42.8</td>\n",
       "      <td>57.2</td>\n",
       "    </tr>\n",
       "    <tr>\n",
       "      <th>2</th>\n",
       "      <td>Building_Cleaning</td>\n",
       "      <td>267</td>\n",
       "      <td>45.3</td>\n",
       "      <td>54.7</td>\n",
       "    </tr>\n",
       "    <tr>\n",
       "      <th>3</th>\n",
       "      <td>Child_Care</td>\n",
       "      <td>802</td>\n",
       "      <td>43.3</td>\n",
       "      <td>56.7</td>\n",
       "    </tr>\n",
       "    <tr>\n",
       "      <th>4</th>\n",
       "      <td>Convenience_Stores</td>\n",
       "      <td>1312</td>\n",
       "      <td>35.2</td>\n",
       "      <td>64.8</td>\n",
       "    </tr>\n",
       "    <tr>\n",
       "      <th>5</th>\n",
       "      <td>Health_Care</td>\n",
       "      <td>4083</td>\n",
       "      <td>43.1</td>\n",
       "      <td>56.9</td>\n",
       "    </tr>\n",
       "    <tr>\n",
       "      <th>6</th>\n",
       "      <td>Postal_Service</td>\n",
       "      <td>592</td>\n",
       "      <td>53.9</td>\n",
       "      <td>46.1</td>\n",
       "    </tr>\n",
       "    <tr>\n",
       "      <th>7</th>\n",
       "      <td>Public_Transit</td>\n",
       "      <td>176</td>\n",
       "      <td>48.3</td>\n",
       "      <td>51.7</td>\n",
       "    </tr>\n",
       "  </tbody>\n",
       "</table>\n",
       "</div>"
      ],
      "text/plain": [
       "               Industry  Total  % 50+  % Under 50\n",
       "0        All_Industries  34205   41.3        58.7\n",
       "1  Frontline_Industries   7232   42.8        57.2\n",
       "2     Building_Cleaning    267   45.3        54.7\n",
       "3            Child_Care    802   43.3        56.7\n",
       "4    Convenience_Stores   1312   35.2        64.8\n",
       "5           Health_Care   4083   43.1        56.9\n",
       "6        Postal_Service    592   53.9        46.1\n",
       "7        Public_Transit    176   48.3        51.7"
      ]
     },
     "execution_count": 53,
     "metadata": {},
     "output_type": "execute_result"
    }
   ],
   "source": [
    "age_df[3]"
   ]
  },
  {
   "cell_type": "markdown",
   "metadata": {},
   "source": [
    "## Have Insurance (HICOV)##"
   ]
  },
  {
   "cell_type": "code",
   "execution_count": 54,
   "metadata": {},
   "outputs": [],
   "source": [
    "popinsurance = dataframelist.pop(0)"
   ]
  },
  {
   "cell_type": "code",
   "execution_count": 55,
   "metadata": {},
   "outputs": [],
   "source": [
    "insurance = popinsurance[['HICOV','INDP']]\n",
    "insurance_df =  format_dataframes(insurance, 'HICOV', 'Insured', 'Uninsured')"
   ]
  },
  {
   "cell_type": "code",
   "execution_count": 56,
   "metadata": {},
   "outputs": [
    {
     "data": {
      "text/html": [
       "<div>\n",
       "<style scoped>\n",
       "    .dataframe tbody tr th:only-of-type {\n",
       "        vertical-align: middle;\n",
       "    }\n",
       "\n",
       "    .dataframe tbody tr th {\n",
       "        vertical-align: top;\n",
       "    }\n",
       "\n",
       "    .dataframe thead th {\n",
       "        text-align: right;\n",
       "    }\n",
       "</style>\n",
       "<table border=\"1\" class=\"dataframe\">\n",
       "  <thead>\n",
       "    <tr style=\"text-align: right;\">\n",
       "      <th></th>\n",
       "      <th>0</th>\n",
       "      <th>1</th>\n",
       "      <th>2</th>\n",
       "      <th>3</th>\n",
       "      <th>4</th>\n",
       "      <th>5</th>\n",
       "      <th>6</th>\n",
       "      <th>7</th>\n",
       "    </tr>\n",
       "  </thead>\n",
       "  <tbody>\n",
       "    <tr>\n",
       "      <th>Industry</th>\n",
       "      <td>All_Industries</td>\n",
       "      <td>Frontline_Industries</td>\n",
       "      <td>Building_Cleaning</td>\n",
       "      <td>Child_Care</td>\n",
       "      <td>Convenience_Stores</td>\n",
       "      <td>Health_Care</td>\n",
       "      <td>Postal_Service</td>\n",
       "      <td>Public_Transit</td>\n",
       "    </tr>\n",
       "    <tr>\n",
       "      <th>Total</th>\n",
       "      <td>34205</td>\n",
       "      <td>7232</td>\n",
       "      <td>267</td>\n",
       "      <td>802</td>\n",
       "      <td>1312</td>\n",
       "      <td>4083</td>\n",
       "      <td>592</td>\n",
       "      <td>176</td>\n",
       "    </tr>\n",
       "    <tr>\n",
       "      <th>% Insured</th>\n",
       "      <td>92</td>\n",
       "      <td>92</td>\n",
       "      <td>78</td>\n",
       "      <td>91</td>\n",
       "      <td>90</td>\n",
       "      <td>94</td>\n",
       "      <td>90</td>\n",
       "      <td>90</td>\n",
       "    </tr>\n",
       "    <tr>\n",
       "      <th>% Uninsured</th>\n",
       "      <td>7.9</td>\n",
       "      <td>8.2</td>\n",
       "      <td>22</td>\n",
       "      <td>9.2</td>\n",
       "      <td>9.5</td>\n",
       "      <td>6.3</td>\n",
       "      <td>10</td>\n",
       "      <td>9.7</td>\n",
       "    </tr>\n",
       "  </tbody>\n",
       "</table>\n",
       "</div>"
      ],
      "text/plain": [
       "                          0                     1                  2           3                   4            5               6               7\n",
       "Industry     All_Industries  Frontline_Industries  Building_Cleaning  Child_Care  Convenience_Stores  Health_Care  Postal_Service  Public_Transit\n",
       "Total                 34205                  7232                267         802                1312         4083             592             176\n",
       "% Insured                92                    92                 78          91                  90           94              90              90\n",
       "% Uninsured             7.9                   8.2                 22         9.2                 9.5          6.3              10             9.7"
      ]
     },
     "execution_count": 56,
     "metadata": {},
     "output_type": "execute_result"
    }
   ],
   "source": [
    "insurance_df[3].T"
   ]
  },
  {
   "cell_type": "markdown",
   "metadata": {},
   "source": [
    "## Presence of Elder 65+ in household (R65)##"
   ]
  },
  {
   "cell_type": "code",
   "execution_count": 57,
   "metadata": {},
   "outputs": [],
   "source": [
    "popsenior = dataframelist.pop(0)"
   ]
  },
  {
   "cell_type": "code",
   "execution_count": 58,
   "metadata": {},
   "outputs": [
    {
     "name": "stderr",
     "output_type": "stream",
     "text": [
      "<ipython-input-58-a1f39ee6fd3a>:2: SettingWithCopyWarning: \n",
      "A value is trying to be set on a copy of a slice from a DataFrame.\n",
      "Try using .loc[row_indexer,col_indexer] = value instead\n",
      "\n",
      "See the caveats in the documentation: http://pandas.pydata.org/pandas-docs/stable/user_guide/indexing.html#returning-a-view-versus-a-copy\n",
      "  senior['R65'] = pd.to_numeric(senior['R65'])\n"
     ]
    }
   ],
   "source": [
    "senior = popsenior[['R65','INDP']]\n",
    "senior['R65'] = pd.to_numeric(senior['R65'])\n",
    "senior.loc[senior['R65'] <= 0, 'R65'] = 0\n",
    "senior.loc[senior['R65'] >= 1, 'R65'] = 1\n",
    "senior_df =  format_dataframes(senior, 'R65', 'No Seniors', 'Senior (age 65+) in home')"
   ]
  },
  {
   "cell_type": "code",
   "execution_count": 59,
   "metadata": {
    "scrolled": false
   },
   "outputs": [
    {
     "data": {
      "text/html": [
       "<div>\n",
       "<style scoped>\n",
       "    .dataframe tbody tr th:only-of-type {\n",
       "        vertical-align: middle;\n",
       "    }\n",
       "\n",
       "    .dataframe tbody tr th {\n",
       "        vertical-align: top;\n",
       "    }\n",
       "\n",
       "    .dataframe thead th {\n",
       "        text-align: right;\n",
       "    }\n",
       "</style>\n",
       "<table border=\"1\" class=\"dataframe\">\n",
       "  <thead>\n",
       "    <tr style=\"text-align: right;\">\n",
       "      <th></th>\n",
       "      <th>Industry</th>\n",
       "      <th>Total</th>\n",
       "      <th>% No Seniors</th>\n",
       "      <th>% Senior (age 65+) in home</th>\n",
       "    </tr>\n",
       "  </thead>\n",
       "  <tbody>\n",
       "    <tr>\n",
       "      <th>0</th>\n",
       "      <td>All_Industries</td>\n",
       "      <td>34205</td>\n",
       "      <td>80.7</td>\n",
       "      <td>19.3</td>\n",
       "    </tr>\n",
       "    <tr>\n",
       "      <th>1</th>\n",
       "      <td>Frontline_Industries</td>\n",
       "      <td>7232</td>\n",
       "      <td>79.1</td>\n",
       "      <td>20.9</td>\n",
       "    </tr>\n",
       "    <tr>\n",
       "      <th>2</th>\n",
       "      <td>Building_Cleaning</td>\n",
       "      <td>267</td>\n",
       "      <td>76.8</td>\n",
       "      <td>23.2</td>\n",
       "    </tr>\n",
       "    <tr>\n",
       "      <th>3</th>\n",
       "      <td>Child_Care</td>\n",
       "      <td>802</td>\n",
       "      <td>74.4</td>\n",
       "      <td>25.6</td>\n",
       "    </tr>\n",
       "    <tr>\n",
       "      <th>4</th>\n",
       "      <td>Convenience_Stores</td>\n",
       "      <td>1312</td>\n",
       "      <td>78.3</td>\n",
       "      <td>21.7</td>\n",
       "    </tr>\n",
       "    <tr>\n",
       "      <th>5</th>\n",
       "      <td>Health_Care</td>\n",
       "      <td>4083</td>\n",
       "      <td>80.8</td>\n",
       "      <td>19.2</td>\n",
       "    </tr>\n",
       "    <tr>\n",
       "      <th>6</th>\n",
       "      <td>Postal_Service</td>\n",
       "      <td>592</td>\n",
       "      <td>78.4</td>\n",
       "      <td>21.6</td>\n",
       "    </tr>\n",
       "    <tr>\n",
       "      <th>7</th>\n",
       "      <td>Public_Transit</td>\n",
       "      <td>176</td>\n",
       "      <td>74.4</td>\n",
       "      <td>25.6</td>\n",
       "    </tr>\n",
       "  </tbody>\n",
       "</table>\n",
       "</div>"
      ],
      "text/plain": [
       "               Industry  Total  % No Seniors  % Senior (age 65+) in home\n",
       "0        All_Industries  34205          80.7                        19.3\n",
       "1  Frontline_Industries   7232          79.1                        20.9\n",
       "2     Building_Cleaning    267          76.8                        23.2\n",
       "3            Child_Care    802          74.4                        25.6\n",
       "4    Convenience_Stores   1312          78.3                        21.7\n",
       "5           Health_Care   4083          80.8                        19.2\n",
       "6        Postal_Service    592          78.4                        21.6\n",
       "7        Public_Transit    176          74.4                        25.6"
      ]
     },
     "execution_count": 59,
     "metadata": {},
     "output_type": "execute_result"
    }
   ],
   "source": [
    "senior_df[3]"
   ]
  },
  {
   "cell_type": "markdown",
   "metadata": {},
   "source": [
    "## Presence of Child <18 in household (R18)##"
   ]
  },
  {
   "cell_type": "code",
   "execution_count": 60,
   "metadata": {},
   "outputs": [],
   "source": [
    "popchild = dataframelist.pop(0)"
   ]
  },
  {
   "cell_type": "code",
   "execution_count": 61,
   "metadata": {},
   "outputs": [
    {
     "name": "stderr",
     "output_type": "stream",
     "text": [
      "<ipython-input-61-c95b2688d0dd>:2: SettingWithCopyWarning: \n",
      "A value is trying to be set on a copy of a slice from a DataFrame.\n",
      "Try using .loc[row_indexer,col_indexer] = value instead\n",
      "\n",
      "See the caveats in the documentation: http://pandas.pydata.org/pandas-docs/stable/user_guide/indexing.html#returning-a-view-versus-a-copy\n",
      "  child['R18'] = pd.to_numeric(child['R18'])\n"
     ]
    }
   ],
   "source": [
    "child = popchild[['R18','INDP']]\n",
    "child['R18'] = pd.to_numeric(child['R18'])\n",
    "child.drop(child[child['R18'] == -1].index , inplace=True)\n",
    "child_df =  format_dataframes(child, 'R18', 'No Children < 18', '1 or more Children in home')"
   ]
  },
  {
   "cell_type": "code",
   "execution_count": 62,
   "metadata": {},
   "outputs": [
    {
     "data": {
      "text/html": [
       "<div>\n",
       "<style scoped>\n",
       "    .dataframe tbody tr th:only-of-type {\n",
       "        vertical-align: middle;\n",
       "    }\n",
       "\n",
       "    .dataframe tbody tr th {\n",
       "        vertical-align: top;\n",
       "    }\n",
       "\n",
       "    .dataframe thead th {\n",
       "        text-align: right;\n",
       "    }\n",
       "</style>\n",
       "<table border=\"1\" class=\"dataframe\">\n",
       "  <thead>\n",
       "    <tr style=\"text-align: right;\">\n",
       "      <th></th>\n",
       "      <th>Industry</th>\n",
       "      <th>Total</th>\n",
       "      <th>% No Children &lt; 18</th>\n",
       "      <th>% 1 or more Children in home</th>\n",
       "    </tr>\n",
       "  </thead>\n",
       "  <tbody>\n",
       "    <tr>\n",
       "      <th>0</th>\n",
       "      <td>All_Industries</td>\n",
       "      <td>33055</td>\n",
       "      <td>65.7</td>\n",
       "      <td>34.3</td>\n",
       "    </tr>\n",
       "    <tr>\n",
       "      <th>1</th>\n",
       "      <td>Frontline_Industries</td>\n",
       "      <td>7083</td>\n",
       "      <td>65.9</td>\n",
       "      <td>34.1</td>\n",
       "    </tr>\n",
       "    <tr>\n",
       "      <th>2</th>\n",
       "      <td>Building_Cleaning</td>\n",
       "      <td>255</td>\n",
       "      <td>67.5</td>\n",
       "      <td>32.5</td>\n",
       "    </tr>\n",
       "    <tr>\n",
       "      <th>3</th>\n",
       "      <td>Child_Care</td>\n",
       "      <td>789</td>\n",
       "      <td>65.9</td>\n",
       "      <td>34.1</td>\n",
       "    </tr>\n",
       "    <tr>\n",
       "      <th>4</th>\n",
       "      <td>Convenience_Stores</td>\n",
       "      <td>1271</td>\n",
       "      <td>68.5</td>\n",
       "      <td>31.5</td>\n",
       "    </tr>\n",
       "    <tr>\n",
       "      <th>5</th>\n",
       "      <td>Health_Care</td>\n",
       "      <td>4009</td>\n",
       "      <td>64.4</td>\n",
       "      <td>35.6</td>\n",
       "    </tr>\n",
       "    <tr>\n",
       "      <th>6</th>\n",
       "      <td>Postal_Service</td>\n",
       "      <td>583</td>\n",
       "      <td>70.2</td>\n",
       "      <td>29.8</td>\n",
       "    </tr>\n",
       "    <tr>\n",
       "      <th>7</th>\n",
       "      <td>Public_Transit</td>\n",
       "      <td>176</td>\n",
       "      <td>64.8</td>\n",
       "      <td>35.2</td>\n",
       "    </tr>\n",
       "  </tbody>\n",
       "</table>\n",
       "</div>"
      ],
      "text/plain": [
       "               Industry  Total  % No Children < 18  % 1 or more Children in home\n",
       "0        All_Industries  33055                65.7                          34.3\n",
       "1  Frontline_Industries   7083                65.9                          34.1\n",
       "2     Building_Cleaning    255                67.5                          32.5\n",
       "3            Child_Care    789                65.9                          34.1\n",
       "4    Convenience_Stores   1271                68.5                          31.5\n",
       "5           Health_Care   4009                64.4                          35.6\n",
       "6        Postal_Service    583                70.2                          29.8\n",
       "7        Public_Transit    176                64.8                          35.2"
      ]
     },
     "execution_count": 62,
     "metadata": {},
     "output_type": "execute_result"
    }
   ],
   "source": [
    "child_df[3]"
   ]
  },
  {
   "cell_type": "markdown",
   "metadata": {},
   "source": [
    "## Part time or Full time work (WKHP)##"
   ]
  },
  {
   "cell_type": "code",
   "execution_count": 63,
   "metadata": {},
   "outputs": [],
   "source": [
    "popwork = dataframelist.pop(0)"
   ]
  },
  {
   "cell_type": "code",
   "execution_count": 64,
   "metadata": {},
   "outputs": [
    {
     "name": "stderr",
     "output_type": "stream",
     "text": [
      "<ipython-input-64-7e829311356e>:3: SettingWithCopyWarning: \n",
      "A value is trying to be set on a copy of a slice from a DataFrame.\n",
      "Try using .loc[row_indexer,col_indexer] = value instead\n",
      "\n",
      "See the caveats in the documentation: http://pandas.pydata.org/pandas-docs/stable/user_guide/indexing.html#returning-a-view-versus-a-copy\n",
      "  work['WKHP'] = pd.to_numeric(work['WKHP'])\n"
     ]
    }
   ],
   "source": [
    "work = popwork[['WKHP','INDP']]\n",
    "work.drop(work[work['WKHP'] == '0'].index , inplace=True)\n",
    "work['WKHP'] = pd.to_numeric(work['WKHP'])\n",
    "work.loc[work['WKHP'] < 40, 'WKHP'] = 0\n",
    "work.loc[work['WKHP'] >= 40, 'WKHP'] = 1\n",
    "work_df =  format_dataframes(work, 'WKHP', 'Part-Time', 'Full-Time')"
   ]
  },
  {
   "cell_type": "code",
   "execution_count": 65,
   "metadata": {
    "scrolled": false
   },
   "outputs": [
    {
     "data": {
      "text/html": [
       "<div>\n",
       "<style scoped>\n",
       "    .dataframe tbody tr th:only-of-type {\n",
       "        vertical-align: middle;\n",
       "    }\n",
       "\n",
       "    .dataframe tbody tr th {\n",
       "        vertical-align: top;\n",
       "    }\n",
       "\n",
       "    .dataframe thead th {\n",
       "        text-align: right;\n",
       "    }\n",
       "</style>\n",
       "<table border=\"1\" class=\"dataframe\">\n",
       "  <thead>\n",
       "    <tr style=\"text-align: right;\">\n",
       "      <th></th>\n",
       "      <th>Industry</th>\n",
       "      <th>Total</th>\n",
       "      <th>% Part-Time</th>\n",
       "      <th>% Full-Time</th>\n",
       "    </tr>\n",
       "  </thead>\n",
       "  <tbody>\n",
       "    <tr>\n",
       "      <th>0</th>\n",
       "      <td>All_Industries</td>\n",
       "      <td>30116</td>\n",
       "      <td>31.5</td>\n",
       "      <td>68.5</td>\n",
       "    </tr>\n",
       "    <tr>\n",
       "      <th>1</th>\n",
       "      <td>Frontline_Industries</td>\n",
       "      <td>6328</td>\n",
       "      <td>36.0</td>\n",
       "      <td>64.0</td>\n",
       "    </tr>\n",
       "    <tr>\n",
       "      <th>2</th>\n",
       "      <td>Building_Cleaning</td>\n",
       "      <td>222</td>\n",
       "      <td>51.8</td>\n",
       "      <td>48.2</td>\n",
       "    </tr>\n",
       "    <tr>\n",
       "      <th>3</th>\n",
       "      <td>Child_Care</td>\n",
       "      <td>675</td>\n",
       "      <td>47.9</td>\n",
       "      <td>52.1</td>\n",
       "    </tr>\n",
       "    <tr>\n",
       "      <th>4</th>\n",
       "      <td>Convenience_Stores</td>\n",
       "      <td>1139</td>\n",
       "      <td>46.8</td>\n",
       "      <td>53.2</td>\n",
       "    </tr>\n",
       "    <tr>\n",
       "      <th>5</th>\n",
       "      <td>Health_Care</td>\n",
       "      <td>3644</td>\n",
       "      <td>32.6</td>\n",
       "      <td>67.4</td>\n",
       "    </tr>\n",
       "    <tr>\n",
       "      <th>6</th>\n",
       "      <td>Postal_Service</td>\n",
       "      <td>506</td>\n",
       "      <td>14.0</td>\n",
       "      <td>86.0</td>\n",
       "    </tr>\n",
       "    <tr>\n",
       "      <th>7</th>\n",
       "      <td>Public_Transit</td>\n",
       "      <td>142</td>\n",
       "      <td>35.2</td>\n",
       "      <td>64.8</td>\n",
       "    </tr>\n",
       "  </tbody>\n",
       "</table>\n",
       "</div>"
      ],
      "text/plain": [
       "               Industry  Total  % Part-Time  % Full-Time\n",
       "0        All_Industries  30116         31.5         68.5\n",
       "1  Frontline_Industries   6328         36.0         64.0\n",
       "2     Building_Cleaning    222         51.8         48.2\n",
       "3            Child_Care    675         47.9         52.1\n",
       "4    Convenience_Stores   1139         46.8         53.2\n",
       "5           Health_Care   3644         32.6         67.4\n",
       "6        Postal_Service    506         14.0         86.0\n",
       "7        Public_Transit    142         35.2         64.8"
      ]
     },
     "execution_count": 65,
     "metadata": {},
     "output_type": "execute_result"
    }
   ],
   "source": [
    "work_df[3]"
   ]
  },
  {
   "cell_type": "markdown",
   "metadata": {},
   "source": [
    "## Public Transportation (JWTR)##"
   ]
  },
  {
   "cell_type": "code",
   "execution_count": 67,
   "metadata": {},
   "outputs": [],
   "source": [
    "poptrans = dataframelist.pop(0)"
   ]
  },
  {
   "cell_type": "code",
   "execution_count": 70,
   "metadata": {},
   "outputs": [
    {
     "name": "stderr",
     "output_type": "stream",
     "text": [
      "<ipython-input-70-5097a55a9ad1>:2: SettingWithCopyWarning: \n",
      "A value is trying to be set on a copy of a slice from a DataFrame.\n",
      "Try using .loc[row_indexer,col_indexer] = value instead\n",
      "\n",
      "See the caveats in the documentation: http://pandas.pydata.org/pandas-docs/stable/user_guide/indexing.html#returning-a-view-versus-a-copy\n",
      "  trans['JWTR'] = pd.to_numeric(trans['JWTR'])\n"
     ]
    }
   ],
   "source": [
    "trans = poptrans[['JWTR','INDP']]\n",
    "trans['JWTR'] = pd.to_numeric(trans['JWTR'])\n",
    "trans.drop(trans[trans['JWTR'] == 0].index , inplace=True)\n",
    "trans.loc[trans['JWTR'] >= 8, 'JWTR'] = 1\n",
    "trans.loc[trans['JWTR'] >= 2, 'JWTR'] = 0"
   ]
  },
  {
   "cell_type": "code",
   "execution_count": 72,
   "metadata": {},
   "outputs": [],
   "source": [
    "trans_df =  format_dataframes(trans, 'JWTR', 'Public Transportation', 'Private Transportation')"
   ]
  },
  {
   "cell_type": "code",
   "execution_count": 73,
   "metadata": {},
   "outputs": [
    {
     "data": {
      "text/html": [
       "<div>\n",
       "<style scoped>\n",
       "    .dataframe tbody tr th:only-of-type {\n",
       "        vertical-align: middle;\n",
       "    }\n",
       "\n",
       "    .dataframe tbody tr th {\n",
       "        vertical-align: top;\n",
       "    }\n",
       "\n",
       "    .dataframe thead th {\n",
       "        text-align: right;\n",
       "    }\n",
       "</style>\n",
       "<table border=\"1\" class=\"dataframe\">\n",
       "  <thead>\n",
       "    <tr style=\"text-align: right;\">\n",
       "      <th></th>\n",
       "      <th>Industry</th>\n",
       "      <th>Total</th>\n",
       "      <th>% Public Transportation</th>\n",
       "      <th>% Private Transportation</th>\n",
       "    </tr>\n",
       "  </thead>\n",
       "  <tbody>\n",
       "    <tr>\n",
       "      <th>0</th>\n",
       "      <td>All_Industries</td>\n",
       "      <td>26633</td>\n",
       "      <td>3.6</td>\n",
       "      <td>96.4</td>\n",
       "    </tr>\n",
       "    <tr>\n",
       "      <th>1</th>\n",
       "      <td>Frontline_Industries</td>\n",
       "      <td>5671</td>\n",
       "      <td>4.3</td>\n",
       "      <td>95.7</td>\n",
       "    </tr>\n",
       "    <tr>\n",
       "      <th>2</th>\n",
       "      <td>Building_Cleaning</td>\n",
       "      <td>187</td>\n",
       "      <td>8.0</td>\n",
       "      <td>92.0</td>\n",
       "    </tr>\n",
       "    <tr>\n",
       "      <th>3</th>\n",
       "      <td>Child_Care</td>\n",
       "      <td>573</td>\n",
       "      <td>3.7</td>\n",
       "      <td>96.3</td>\n",
       "    </tr>\n",
       "    <tr>\n",
       "      <th>4</th>\n",
       "      <td>Convenience_Stores</td>\n",
       "      <td>987</td>\n",
       "      <td>4.4</td>\n",
       "      <td>95.6</td>\n",
       "    </tr>\n",
       "    <tr>\n",
       "      <th>5</th>\n",
       "      <td>Health_Care</td>\n",
       "      <td>3342</td>\n",
       "      <td>4.2</td>\n",
       "      <td>95.8</td>\n",
       "    </tr>\n",
       "    <tr>\n",
       "      <th>6</th>\n",
       "      <td>Postal_Service</td>\n",
       "      <td>457</td>\n",
       "      <td>3.1</td>\n",
       "      <td>96.9</td>\n",
       "    </tr>\n",
       "    <tr>\n",
       "      <th>7</th>\n",
       "      <td>Public_Transit</td>\n",
       "      <td>125</td>\n",
       "      <td>9.6</td>\n",
       "      <td>90.4</td>\n",
       "    </tr>\n",
       "  </tbody>\n",
       "</table>\n",
       "</div>"
      ],
      "text/plain": [
       "               Industry  Total  % Public Transportation  % Private Transportation\n",
       "0        All_Industries  26633                      3.6                      96.4\n",
       "1  Frontline_Industries   5671                      4.3                      95.7\n",
       "2     Building_Cleaning    187                      8.0                      92.0\n",
       "3            Child_Care    573                      3.7                      96.3\n",
       "4    Convenience_Stores    987                      4.4                      95.6\n",
       "5           Health_Care   3342                      4.2                      95.8\n",
       "6        Postal_Service    457                      3.1                      96.9\n",
       "7        Public_Transit    125                      9.6                      90.4"
      ]
     },
     "execution_count": 73,
     "metadata": {},
     "output_type": "execute_result"
    }
   ],
   "source": [
    "trans_df[3]"
   ]
  },
  {
   "cell_type": "markdown",
   "metadata": {},
   "source": [
    "## Foreign Born (WAOB) ##"
   ]
  },
  {
   "cell_type": "code",
   "execution_count": null,
   "metadata": {},
   "outputs": [],
   "source": []
  }
 ],
 "metadata": {
  "kernelspec": {
   "display_name": "Python 3",
   "language": "python",
   "name": "python3"
  },
  "language_info": {
   "codemirror_mode": {
    "name": "ipython",
    "version": 3
   },
   "file_extension": ".py",
   "mimetype": "text/x-python",
   "name": "python",
   "nbconvert_exporter": "python",
   "pygments_lexer": "ipython3",
   "version": "3.8.0"
  }
 },
 "nbformat": 4,
 "nbformat_minor": 4
}
