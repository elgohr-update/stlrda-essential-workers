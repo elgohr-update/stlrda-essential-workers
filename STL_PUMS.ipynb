{
 "cells": [
  {
   "cell_type": "code",
   "execution_count": 1,
   "metadata": {},
   "outputs": [],
   "source": [
    "import pandas as pd\n",
    "import requests\n",
    "\n",
    "from pprint import pprint\n",
    "from resources.api_keys import census_api_key\n",
    "\n",
    "pd.set_option('display.expand_frame_repr', False)\n",
    "pd.set_option('display.precision', 2)\n",
    "pd.options.display.max_columns = None\n",
    "pd.options.display.max_rows = 40"
   ]
  },
  {
   "cell_type": "code",
   "execution_count": 2,
   "metadata": {},
   "outputs": [],
   "source": [
    "base_url = 'https://api.census.gov/data/2018/acs/acs5/pums?get='\n",
    "weighting = 'PWGTP,'\n",
    "variable_list = ['SEX', 'AGEP', 'HICOV', 'R65', 'RAC1P']\n",
    "industries = '&INDP=0170&INDP=0180&INDP=0190&INDP=0270&INDP=0280&INDP=0290&INDP=0370&INDP=0380&INDP=0390&INDP=0470&INDP=0490&INDP=0570&INDP=0580&INDP=0590&INDP=0670&INDP=0680&INDP=0690&INDP=0770&INDP=1070&INDP=1080&INDP=1090&INDP=1170&INDP=1180&INDP=1190&INDP=1270&INDP=1280&INDP=1290&INDP=1370&INDP=1390&INDP=1470&INDP=1480&INDP=1490&INDP=1570&INDP=1590&INDP=1670&INDP=1691&INDP=1770&INDP=1790&INDP=1870&INDP=1880&INDP=1890&INDP=1990&INDP=2070&INDP=2090&INDP=2170&INDP=2180&INDP=2190&INDP=2270&INDP=2280&INDP=2290&INDP=2370&INDP=2380&INDP=2390&INDP=2470&INDP=2480&INDP=2490&INDP=2570&INDP=2590&INDP=2670&INDP=2680&INDP=2690&INDP=2770&INDP=2780&INDP=2790&INDP=2870&INDP=2880&INDP=2890&INDP=2970&INDP=2980&INDP=2990&INDP=3070&INDP=3080&INDP=3095&INDP=3170&INDP=3180&INDP=3291&INDP=3365&INDP=3370&INDP=3380&INDP=3390&INDP=3470&INDP=3490&INDP=3570&INDP=3580&INDP=3590&INDP=3670&INDP=3680&INDP=3690&INDP=3770&INDP=3780&INDP=3790&INDP=3875&INDP=3895&INDP=3960&INDP=3970&INDP=3980&INDP=3990&INDP=4070&INDP=4080&INDP=4090&INDP=4170&INDP=4180&INDP=4195&INDP=4265&INDP=4270&INDP=4280&INDP=4290&INDP=4370&INDP=4380&INDP=4390&INDP=4470&INDP=4480&INDP=4490&INDP=4560&INDP=4570&INDP=4580&INDP=4585&INDP=4590&INDP=4670&INDP=4680&INDP=4690&INDP=4770&INDP=4780&INDP=4795&INDP=4870&INDP=4880&INDP=4890&INDP=4971&INDP=4972&INDP=4980&INDP=4990&INDP=5070&INDP=5080&INDP=5090&INDP=5170&INDP=5180&INDP=5190&INDP=5275&INDP=5280&INDP=5295&INDP=5370&INDP=5381&INDP=5391&INDP=5470&INDP=5480&INDP=5490&INDP=5570&INDP=5580&INDP=5593&INDP=5670&INDP=5680&INDP=5690&INDP=5790&INDP=6070&INDP=6080&INDP=6090&INDP=6170&INDP=6180&INDP=6190&INDP=6270&INDP=6280&INDP=6290&INDP=6370&INDP=6380&INDP=6390&INDP=6470&INDP=6480&INDP=6490&INDP=6570&INDP=6590&INDP=6670&INDP=6672&INDP=6680&INDP=6690&INDP=6695&INDP=6770&INDP=6780&INDP=6870&INDP=6880&INDP=6890&INDP=6970&INDP=6991&INDP=6992&INDP=7071&INDP=7072&INDP=7080&INDP=7181&INDP=7190&INDP=7270&INDP=7280&INDP=7290&INDP=7370&INDP=7380&INDP=7390&INDP=7460&INDP=7470&INDP=7480&INDP=7490&INDP=7570&INDP=7580&INDP=7590&INDP=7670&INDP=7680&INDP=7690&INDP=7770&INDP=7780&INDP=7790&INDP=7860&INDP=7870&INDP=7880&INDP=7890&INDP=7970&INDP=7980&INDP=7990&INDP=8070&INDP=8080&INDP=8090&INDP=8170&INDP=8180&INDP=8191&INDP=8192&INDP=8270&INDP=8290&INDP=8370&INDP=8380&INDP=8390&INDP=8470&INDP=8561&INDP=8562&INDP=8563&INDP=8564&INDP=8570&INDP=8580&INDP=8590&INDP=8660&INDP=8670&INDP=8680&INDP=8690&INDP=8770&INDP=8780&INDP=8790&INDP=8870&INDP=8891&INDP=8970&INDP=8980&INDP=8990&INDP=9070&INDP=9080&INDP=9090&INDP=9160&INDP=9170&INDP=9180&INDP=9190&INDP=9290&INDP=9370&INDP=9380&INDP=9390&INDP=9470&INDP=9480&INDP=9490&INDP=9570&INDP=9590&INDP=9670&INDP=9680&INDP=9690&INDP=9770&INDP=9780&INDP=9790&INDP=9870&INDP=9920'\n",
    "geo = '&ucgid=7950000US2901801,7950000US2901802,7950000US2901803,7950000US2901804,7950000US2901805,7950000US2901806,7950000US2901807,7950000US2901808,7950000US2901901,7950000US2901902'"
   ]
  },
  {
   "cell_type": "code",
   "execution_count": 3,
   "metadata": {},
   "outputs": [],
   "source": [
    "Grocery_Convenience_DrugStores = ['4470', '4971', '4972', '5070', '5391']\n",
    "Public_Transit = ['6080', '6180']\n",
    "Trucking_Warehouse_PostalService = ['6170', '6390', '6370']\n",
    "Building_Cleaning_Services = ['7690']\n",
    "Health_Care = ['7970', '8090', '8170', '8180', '8191', '8192', '8270', '8290']\n",
    "ChildCare_SocialServices = ['8370', '8380', '8470']\n",
    "\n",
    "frontline_industries = Grocery_Convenience_DrugStores + Public_Transit + Trucking_Warehouse_PostalService + Building_Cleaning_Services + Health_Care + ChildCare_SocialServices"
   ]
  },
  {
   "cell_type": "code",
   "execution_count": 4,
   "metadata": {},
   "outputs": [],
   "source": [
    "def convert_industry_codes(df):\n",
    "    df.replace(to_replace = {'4470':'Convenience_Stores', '4971':'Convenience_Stores', '4972':'Convenience_Stores', '5070':'Convenience_Stores', '5391':'Convenience_Stores'\n",
    "                                         ,'6080':'Public_Transit', '6180':'Public_Transit'\n",
    "                                         ,'6170':'Postal_Service', '6390':'Postal_Service', '6370':'Postal_Service'\n",
    "                                         ,'7690':'Building_Cleaning'\n",
    "                                         ,'7970':'Health_Care', '8090':'Health_Care', '8170':'Health_Care', '8180':'Health_Care', '8191':'Health_Care', '8192':'Health_Care', '8270':'Health_Care', '8290':'Health_Care'\n",
    "                                         ,'8370':'Child_Care', '8380':'Child_Care', '8470':'Child_Care'}\n",
    "                   , value = None\n",
    "                   , inplace = True)\n",
    "    return df"
   ]
  },
  {
   "cell_type": "code",
   "execution_count": 5,
   "metadata": {},
   "outputs": [],
   "source": [
    "# df = dataframe passed in. Should be 2 columns. (var, 'INDP')\n",
    "# var = lable on column var which contains 0s and 1s\n",
    "# fieldT = lable for result column which counts the % of total values in column var where value = 1 (true)\n",
    "# fieldT = lable for result column which counts the % of total values in column var where value = 0 (false)\n",
    "\n",
    "def format_dataframes(df, var, fieldT, fieldF):\n",
    "    \n",
    "    fieldFp = '% ' + fieldF\n",
    "    fieldTp = '% ' + fieldT\n",
    "    \n",
    "    #create dataframe for all industries\n",
    "    df_all = df.groupby(df[var]).size()\n",
    "    df_all = df_all.reset_index()\n",
    "    df_all = df_all.T\n",
    "    df_all = df_all.rename(columns={0: fieldF, 1: fieldT})\n",
    "    df_all = df_all.rename(index={0: \"All_Industries\"})\n",
    "    df_all = df_all.drop(var)\n",
    "    df_all['Total'] = df_all[fieldF] + df_all[fieldT]\n",
    "    \n",
    "    #create dataframe for all frontline industries\n",
    "    df = df.loc[df['INDP'].isin(frontline_industries)]\n",
    "    \n",
    "    df_front = df.groupby(df[var]).size()\n",
    "    df_front = df_front.reset_index()\n",
    "    df_front = df_front.T\n",
    "    df_front = df_front.rename(columns={0: fieldF, 1: fieldT})\n",
    "    df_front = df_front.rename(index={0: \"Frontline_Industries\"})\n",
    "    df_front = df_front.drop(var)\n",
    "    df_front['Total'] = df_front[fieldF] + df_front[fieldT]\n",
    "    \n",
    "    #create dataframe for specific frontline industries\n",
    "    convert_industry_codes(df)\n",
    "    \n",
    "    df = df.groupby(['INDP', var]).size()\n",
    "    df = df.unstack(var)\n",
    "    df.columns=[fieldF, fieldT]\n",
    "    df.fillna(0, inplace = True)\n",
    "    df['Total'] = df[fieldF] + df[fieldT]\n",
    "    \n",
    "    #combine dataframes\n",
    "    df_combined = pd.concat([df_all, df_front, df])\n",
    "    df_combined[fieldFp] = ((df_combined[fieldF] / df_combined['Total']) * 100).apply(lambda x: round(x, 1))\n",
    "    df_combined[fieldTp] = ((df_combined[fieldT] / df_combined['Total']) * 100).apply(lambda x: round(x, 1))\n",
    "    df_combined = df_combined.reset_index()\n",
    "    \n",
    "    df_final = pd.DataFrame(df_combined[['index', 'Total', fieldFp, fieldTp]])\n",
    "    df_final.columns = ['Industry', 'Total', fieldFp, fieldTp]\n",
    "    \n",
    "    #return (df_all, df_front, df, df_final)\n",
    "    return (df_final)"
   ]
  },
  {
   "cell_type": "code",
   "execution_count": 6,
   "metadata": {},
   "outputs": [],
   "source": [
    "dataframelist = []\n",
    "for variable in variable_list:\n",
    "    API_REQUEST = base_url+variable+industries+geo\n",
    "    get_data = requests.get(API_REQUEST).json()\n",
    "    df = pd.DataFrame(get_data, columns=get_data.pop(0))\n",
    "    dataframelist.append(df)\n"
   ]
  },
  {
   "cell_type": "code",
   "execution_count": 7,
   "metadata": {
    "collapsed": true
   },
   "outputs": [
    {
     "data": {
      "text/plain": [
       "[      SEX  INDP  PUMA  ST\n",
       " 0       2  7270  1806  29\n",
       " 1       2  2370  1803  29\n",
       " 2       2  6480  1805  29\n",
       " 3       2  8770  1808  29\n",
       " 4       1  8770  1808  29\n",
       " ...    ..   ...   ...  ..\n",
       " 34200   2  7071  1807  29\n",
       " 34201   2  8564  1901  29\n",
       " 34202   1  7270  1901  29\n",
       " 34203   1  5580  1804  29\n",
       " 34204   2  6992  1804  29\n",
       " \n",
       " [34205 rows x 4 columns],\n",
       "       AGEP  INDP  PUMA  ST\n",
       " 0       52  7270  1806  29\n",
       " 1       48  2370  1803  29\n",
       " 2       75  6480  1805  29\n",
       " 3       38  8770  1808  29\n",
       " 4       37  8770  1808  29\n",
       " ...    ...   ...   ...  ..\n",
       " 34200   39  7071  1807  29\n",
       " 34201   66  8564  1901  29\n",
       " 34202   66  7270  1901  29\n",
       " 34203   69  5580  1804  29\n",
       " 34204   67  6992  1804  29\n",
       " \n",
       " [34205 rows x 4 columns],\n",
       "       HICOV  INDP  PUMA  ST\n",
       " 0         1  7270  1806  29\n",
       " 1         1  2370  1803  29\n",
       " 2         1  6480  1805  29\n",
       " 3         1  8770  1808  29\n",
       " 4         1  8770  1808  29\n",
       " ...     ...   ...   ...  ..\n",
       " 34200     1  7071  1807  29\n",
       " 34201     1  8564  1901  29\n",
       " 34202     1  7270  1901  29\n",
       " 34203     1  5580  1804  29\n",
       " 34204     1  6992  1804  29\n",
       " \n",
       " [34205 rows x 4 columns],\n",
       "       R65  INDP  PUMA  ST\n",
       " 0       0  6070  1902  29\n",
       " 1       0  4470  1902  29\n",
       " 2       1  5593  1902  29\n",
       " 3       1  7690  1802  29\n",
       " 4       1  8680  1802  29\n",
       " ...    ..   ...   ...  ..\n",
       " 34200   0  7071  1807  29\n",
       " 34201   2  8564  1901  29\n",
       " 34202   2  7270  1901  29\n",
       " 34203   2  5580  1804  29\n",
       " 34204   2  6992  1804  29\n",
       " \n",
       " [34205 rows x 4 columns],\n",
       "       RAC1P  INDP  PUMA  ST\n",
       " 0         9  7270  1806  29\n",
       " 1         2  2370  1803  29\n",
       " 2         2  6480  1805  29\n",
       " 3         1  8770  1808  29\n",
       " 4         1  8770  1808  29\n",
       " ...     ...   ...   ...  ..\n",
       " 34200     1  7071  1807  29\n",
       " 34201     1  8564  1901  29\n",
       " 34202     1  7270  1901  29\n",
       " 34203     1  5580  1804  29\n",
       " 34204     1  6992  1804  29\n",
       " \n",
       " [34205 rows x 4 columns]]"
      ]
     },
     "execution_count": 7,
     "metadata": {},
     "output_type": "execute_result"
    }
   ],
   "source": [
    "dataframelist"
   ]
  },
  {
   "cell_type": "code",
   "execution_count": 8,
   "metadata": {},
   "outputs": [],
   "source": [
    "popgender = dataframelist.pop(0)"
   ]
  },
  {
   "cell_type": "code",
   "execution_count": 34,
   "metadata": {},
   "outputs": [],
   "source": [
    "gender = popgender[['SEX','INDP']]"
   ]
  },
  {
   "cell_type": "code",
   "execution_count": 9,
   "metadata": {
    "scrolled": true
   },
   "outputs": [
    {
     "data": {
      "text/html": [
       "<div>\n",
       "<style scoped>\n",
       "    .dataframe tbody tr th:only-of-type {\n",
       "        vertical-align: middle;\n",
       "    }\n",
       "\n",
       "    .dataframe tbody tr th {\n",
       "        vertical-align: top;\n",
       "    }\n",
       "\n",
       "    .dataframe thead th {\n",
       "        text-align: right;\n",
       "    }\n",
       "</style>\n",
       "<table border=\"1\" class=\"dataframe\">\n",
       "  <thead>\n",
       "    <tr style=\"text-align: right;\">\n",
       "      <th></th>\n",
       "      <th>Male</th>\n",
       "      <th>Female</th>\n",
       "      <th>Total</th>\n",
       "    </tr>\n",
       "  </thead>\n",
       "  <tbody>\n",
       "    <tr>\n",
       "      <th>All_Industries</th>\n",
       "      <td>16809</td>\n",
       "      <td>17396</td>\n",
       "      <td>34205</td>\n",
       "    </tr>\n",
       "  </tbody>\n",
       "</table>\n",
       "</div>"
      ],
      "text/plain": [
       "                 Male Female  Total\n",
       "All_Industries  16809  17396  34205"
      ]
     },
     "execution_count": 9,
     "metadata": {},
     "output_type": "execute_result"
    }
   ],
   "source": [
    "#gender_all = gender.groupby(\"SEX\")[\"INDP\"].count()\n",
    "gender_all = gender.groupby(gender['SEX']).size()\n",
    "gender_all = gender_all.reset_index()\n",
    "gender_all = gender_all.T\n",
    "gender_all = gender_all.rename(columns={0: \"Male\", 1: \"Female\"})\n",
    "gender_all = gender_all.rename(index={0: \"All_Industries\"})\n",
    "gender_all = gender_all.drop('SEX')\n",
    "gender_all['Total'] = gender_all['Male'] + gender_all['Female']\n",
    "gender_all"
   ]
  },
  {
   "cell_type": "markdown",
   "metadata": {},
   "source": [
    "## Gender counts for only frontline Industries ##"
   ]
  },
  {
   "cell_type": "code",
   "execution_count": 10,
   "metadata": {},
   "outputs": [],
   "source": [
    "gender = gender.loc[gender['INDP'].isin(frontline_industries)]"
   ]
  },
  {
   "cell_type": "code",
   "execution_count": 11,
   "metadata": {},
   "outputs": [
    {
     "data": {
      "text/html": [
       "<div>\n",
       "<style scoped>\n",
       "    .dataframe tbody tr th:only-of-type {\n",
       "        vertical-align: middle;\n",
       "    }\n",
       "\n",
       "    .dataframe tbody tr th {\n",
       "        vertical-align: top;\n",
       "    }\n",
       "\n",
       "    .dataframe thead th {\n",
       "        text-align: right;\n",
       "    }\n",
       "</style>\n",
       "<table border=\"1\" class=\"dataframe\">\n",
       "  <thead>\n",
       "    <tr style=\"text-align: right;\">\n",
       "      <th></th>\n",
       "      <th>Male</th>\n",
       "      <th>Female</th>\n",
       "      <th>Total</th>\n",
       "    </tr>\n",
       "  </thead>\n",
       "  <tbody>\n",
       "    <tr>\n",
       "      <th>Frontline_Industries</th>\n",
       "      <td>2434</td>\n",
       "      <td>4798</td>\n",
       "      <td>7232</td>\n",
       "    </tr>\n",
       "  </tbody>\n",
       "</table>\n",
       "</div>"
      ],
      "text/plain": [
       "                      Male Female Total\n",
       "Frontline_Industries  2434   4798  7232"
      ]
     },
     "execution_count": 11,
     "metadata": {},
     "output_type": "execute_result"
    }
   ],
   "source": [
    "gender_front = gender.groupby(gender['SEX']).size()\n",
    "gender_front = gender_front.reset_index()\n",
    "gender_front = gender_front.T\n",
    "gender_front = gender_front.rename(columns={0: \"Male\", 1: \"Female\"})\n",
    "gender_front = gender_front.rename(index={0: \"Frontline_Industries\"})\n",
    "gender_front = gender_front.drop('SEX')\n",
    "gender_front['Total'] = gender_front['Male'] + gender_front['Female']\n",
    "gender_front"
   ]
  },
  {
   "cell_type": "markdown",
   "metadata": {},
   "source": [
    "## Gender counts for industry groupings ##"
   ]
  },
  {
   "cell_type": "code",
   "execution_count": 12,
   "metadata": {},
   "outputs": [
    {
     "data": {
      "text/html": [
       "<div>\n",
       "<style scoped>\n",
       "    .dataframe tbody tr th:only-of-type {\n",
       "        vertical-align: middle;\n",
       "    }\n",
       "\n",
       "    .dataframe tbody tr th {\n",
       "        vertical-align: top;\n",
       "    }\n",
       "\n",
       "    .dataframe thead th {\n",
       "        text-align: right;\n",
       "    }\n",
       "</style>\n",
       "<table border=\"1\" class=\"dataframe\">\n",
       "  <thead>\n",
       "    <tr style=\"text-align: right;\">\n",
       "      <th></th>\n",
       "      <th>SEX</th>\n",
       "      <th>INDP</th>\n",
       "    </tr>\n",
       "  </thead>\n",
       "  <tbody>\n",
       "    <tr>\n",
       "      <th>7</th>\n",
       "      <td>2</td>\n",
       "      <td>Convenience_Stores</td>\n",
       "    </tr>\n",
       "    <tr>\n",
       "      <th>10</th>\n",
       "      <td>2</td>\n",
       "      <td>Health_Care</td>\n",
       "    </tr>\n",
       "    <tr>\n",
       "      <th>11</th>\n",
       "      <td>2</td>\n",
       "      <td>Health_Care</td>\n",
       "    </tr>\n",
       "    <tr>\n",
       "      <th>14</th>\n",
       "      <td>1</td>\n",
       "      <td>Health_Care</td>\n",
       "    </tr>\n",
       "    <tr>\n",
       "      <th>20</th>\n",
       "      <td>2</td>\n",
       "      <td>Convenience_Stores</td>\n",
       "    </tr>\n",
       "    <tr>\n",
       "      <th>...</th>\n",
       "      <td>...</td>\n",
       "      <td>...</td>\n",
       "    </tr>\n",
       "    <tr>\n",
       "      <th>34188</th>\n",
       "      <td>1</td>\n",
       "      <td>Convenience_Stores</td>\n",
       "    </tr>\n",
       "    <tr>\n",
       "      <th>34192</th>\n",
       "      <td>2</td>\n",
       "      <td>Building_Cleaning</td>\n",
       "    </tr>\n",
       "    <tr>\n",
       "      <th>34196</th>\n",
       "      <td>2</td>\n",
       "      <td>Public_Transit</td>\n",
       "    </tr>\n",
       "    <tr>\n",
       "      <th>34203</th>\n",
       "      <td>1</td>\n",
       "      <td>Convenience_Stores</td>\n",
       "    </tr>\n",
       "    <tr>\n",
       "      <th>34204</th>\n",
       "      <td>2</td>\n",
       "      <td>Health_Care</td>\n",
       "    </tr>\n",
       "  </tbody>\n",
       "</table>\n",
       "<p>7232 rows × 2 columns</p>\n",
       "</div>"
      ],
      "text/plain": [
       "      SEX                INDP\n",
       "7       2  Convenience_Stores\n",
       "10      2         Health_Care\n",
       "11      2         Health_Care\n",
       "14      1         Health_Care\n",
       "20      2  Convenience_Stores\n",
       "...    ..                 ...\n",
       "34188   1  Convenience_Stores\n",
       "34192   2   Building_Cleaning\n",
       "34196   2      Public_Transit\n",
       "34203   1  Convenience_Stores\n",
       "34204   2         Health_Care\n",
       "\n",
       "[7232 rows x 2 columns]"
      ]
     },
     "execution_count": 12,
     "metadata": {},
     "output_type": "execute_result"
    }
   ],
   "source": [
    "convert_industry_codes(gender)"
   ]
  },
  {
   "cell_type": "code",
   "execution_count": 13,
   "metadata": {},
   "outputs": [],
   "source": [
    "gender = gender.groupby(['INDP', 'SEX']).size()"
   ]
  },
  {
   "cell_type": "code",
   "execution_count": 14,
   "metadata": {
    "scrolled": true
   },
   "outputs": [],
   "source": [
    "gender = gender.unstack('SEX')\n",
    "gender.columns=['Male', 'Female']"
   ]
  },
  {
   "cell_type": "code",
   "execution_count": 15,
   "metadata": {},
   "outputs": [],
   "source": [
    "gender.fillna(0, inplace = True)"
   ]
  },
  {
   "cell_type": "code",
   "execution_count": 16,
   "metadata": {},
   "outputs": [],
   "source": [
    "gender['Total'] = gender['Male'] + gender['Female']"
   ]
  },
  {
   "cell_type": "markdown",
   "metadata": {},
   "source": [
    "## Combine data frames ##"
   ]
  },
  {
   "cell_type": "code",
   "execution_count": 17,
   "metadata": {},
   "outputs": [],
   "source": [
    "gender_combined = pd.concat([gender_all, gender_front, gender])"
   ]
  },
  {
   "cell_type": "code",
   "execution_count": 18,
   "metadata": {},
   "outputs": [],
   "source": [
    "gender_combined['% Male'] = ((gender_combined['Male'] / gender_combined['Total']) * 100).apply(lambda x: round(x, 1))\n",
    "gender_combined['% Female'] = ((gender_combined['Female'] / gender_combined['Total']) * 100).apply(lambda x: round(x, 1))"
   ]
  },
  {
   "cell_type": "code",
   "execution_count": 19,
   "metadata": {
    "scrolled": false
   },
   "outputs": [],
   "source": [
    "gender_combined = gender_combined.reset_index()"
   ]
  },
  {
   "cell_type": "code",
   "execution_count": 20,
   "metadata": {},
   "outputs": [],
   "source": [
    "gender_final = pd.DataFrame(gender_combined[['index', 'Total', '% Male', '% Female']])"
   ]
  },
  {
   "cell_type": "code",
   "execution_count": 21,
   "metadata": {},
   "outputs": [],
   "source": [
    "gender_final.columns = ['Industry', 'Total', '% Male', '% Female']"
   ]
  },
  {
   "cell_type": "code",
   "execution_count": 22,
   "metadata": {},
   "outputs": [
    {
     "data": {
      "text/html": [
       "<div>\n",
       "<style scoped>\n",
       "    .dataframe tbody tr th:only-of-type {\n",
       "        vertical-align: middle;\n",
       "    }\n",
       "\n",
       "    .dataframe tbody tr th {\n",
       "        vertical-align: top;\n",
       "    }\n",
       "\n",
       "    .dataframe thead th {\n",
       "        text-align: right;\n",
       "    }\n",
       "</style>\n",
       "<table border=\"1\" class=\"dataframe\">\n",
       "  <thead>\n",
       "    <tr style=\"text-align: right;\">\n",
       "      <th></th>\n",
       "      <th>Industry</th>\n",
       "      <th>Total</th>\n",
       "      <th>% Male</th>\n",
       "      <th>% Female</th>\n",
       "    </tr>\n",
       "  </thead>\n",
       "  <tbody>\n",
       "    <tr>\n",
       "      <th>0</th>\n",
       "      <td>All_Industries</td>\n",
       "      <td>34205</td>\n",
       "      <td>49.1</td>\n",
       "      <td>50.9</td>\n",
       "    </tr>\n",
       "    <tr>\n",
       "      <th>1</th>\n",
       "      <td>Frontline_Industries</td>\n",
       "      <td>7232</td>\n",
       "      <td>33.7</td>\n",
       "      <td>66.3</td>\n",
       "    </tr>\n",
       "    <tr>\n",
       "      <th>2</th>\n",
       "      <td>Building_Cleaning</td>\n",
       "      <td>267</td>\n",
       "      <td>55.4</td>\n",
       "      <td>44.6</td>\n",
       "    </tr>\n",
       "    <tr>\n",
       "      <th>3</th>\n",
       "      <td>Child_Care</td>\n",
       "      <td>802</td>\n",
       "      <td>14.5</td>\n",
       "      <td>85.5</td>\n",
       "    </tr>\n",
       "    <tr>\n",
       "      <th>4</th>\n",
       "      <td>Convenience_Stores</td>\n",
       "      <td>1312</td>\n",
       "      <td>49.7</td>\n",
       "      <td>50.3</td>\n",
       "    </tr>\n",
       "    <tr>\n",
       "      <th>5</th>\n",
       "      <td>Health_Care</td>\n",
       "      <td>4083</td>\n",
       "      <td>24.7</td>\n",
       "      <td>75.3</td>\n",
       "    </tr>\n",
       "    <tr>\n",
       "      <th>6</th>\n",
       "      <td>Postal_Service</td>\n",
       "      <td>592</td>\n",
       "      <td>70.6</td>\n",
       "      <td>29.4</td>\n",
       "    </tr>\n",
       "    <tr>\n",
       "      <th>7</th>\n",
       "      <td>Public_Transit</td>\n",
       "      <td>176</td>\n",
       "      <td>51.1</td>\n",
       "      <td>48.9</td>\n",
       "    </tr>\n",
       "  </tbody>\n",
       "</table>\n",
       "</div>"
      ],
      "text/plain": [
       "               Industry  Total  % Male  % Female\n",
       "0        All_Industries  34205    49.1      50.9\n",
       "1  Frontline_Industries   7232    33.7      66.3\n",
       "2     Building_Cleaning    267    55.4      44.6\n",
       "3            Child_Care    802    14.5      85.5\n",
       "4    Convenience_Stores   1312    49.7      50.3\n",
       "5           Health_Care   4083    24.7      75.3\n",
       "6        Postal_Service    592    70.6      29.4\n",
       "7        Public_Transit    176    51.1      48.9"
      ]
     },
     "execution_count": 22,
     "metadata": {},
     "output_type": "execute_result"
    }
   ],
   "source": [
    "gender_final"
   ]
  },
  {
   "cell_type": "markdown",
   "metadata": {},
   "source": [
    "## Age ##"
   ]
  },
  {
   "cell_type": "code",
   "execution_count": 11,
   "metadata": {},
   "outputs": [],
   "source": [
    "popage = dataframelist.pop(0)"
   ]
  },
  {
   "cell_type": "code",
   "execution_count": 12,
   "metadata": {},
   "outputs": [],
   "source": [
    "age = popage[['AGEP','INDP']]"
   ]
  },
  {
   "cell_type": "code",
   "execution_count": 13,
   "metadata": {},
   "outputs": [
    {
     "name": "stderr",
     "output_type": "stream",
     "text": [
      "<ipython-input-13-e6bb06b07cf8>:1: SettingWithCopyWarning: \n",
      "A value is trying to be set on a copy of a slice from a DataFrame.\n",
      "Try using .loc[row_indexer,col_indexer] = value instead\n",
      "\n",
      "See the caveats in the documentation: http://pandas.pydata.org/pandas-docs/stable/user_guide/indexing.html#returning-a-view-versus-a-copy\n",
      "  age['AGEP'] = pd.to_numeric(age['AGEP'])\n",
      "c:\\users\\kab0320\\appdata\\local\\programs\\python\\python38\\lib\\site-packages\\pandas\\core\\indexing.py:494: SettingWithCopyWarning: \n",
      "A value is trying to be set on a copy of a slice from a DataFrame.\n",
      "Try using .loc[row_indexer,col_indexer] = value instead\n",
      "\n",
      "See the caveats in the documentation: http://pandas.pydata.org/pandas-docs/stable/user_guide/indexing.html#returning-a-view-versus-a-copy\n",
      "  self.obj[item] = s\n"
     ]
    }
   ],
   "source": [
    "age['AGEP'] = pd.to_numeric(age['AGEP'])\n",
    "age.loc[age['AGEP'] < 50, 'AGEP'] = 0\n",
    "age.loc[age['AGEP'] >= 50, 'AGEP'] = 1"
   ]
  },
  {
   "cell_type": "markdown",
   "metadata": {},
   "source": [
    "## All industries ##"
   ]
  },
  {
   "cell_type": "code",
   "execution_count": 14,
   "metadata": {},
   "outputs": [],
   "source": [
    "age_all = age.copy()"
   ]
  },
  {
   "cell_type": "code",
   "execution_count": 45,
   "metadata": {},
   "outputs": [],
   "source": [
    "age_all = age_all.groupby(age_all['AGEP']).size().reset_index()\n",
    "age_all = age_all.T\n",
    "age_all = age_all.rename(columns={0: \"Under 50\", 1: \"50+\"})\n",
    "age_all = age_all.rename(index={0: \"All_Industries\"})\n",
    "age_all = age_all.drop('AGEP')\n",
    "age_all['Total'] = age_all['50+'] + age_all['Under 50']"
   ]
  },
  {
   "cell_type": "code",
   "execution_count": 46,
   "metadata": {},
   "outputs": [
    {
     "data": {
      "text/html": [
       "<div>\n",
       "<style scoped>\n",
       "    .dataframe tbody tr th:only-of-type {\n",
       "        vertical-align: middle;\n",
       "    }\n",
       "\n",
       "    .dataframe tbody tr th {\n",
       "        vertical-align: top;\n",
       "    }\n",
       "\n",
       "    .dataframe thead th {\n",
       "        text-align: right;\n",
       "    }\n",
       "</style>\n",
       "<table border=\"1\" class=\"dataframe\">\n",
       "  <thead>\n",
       "    <tr style=\"text-align: right;\">\n",
       "      <th></th>\n",
       "      <th>Under 50</th>\n",
       "      <th>50+</th>\n",
       "      <th>Total</th>\n",
       "    </tr>\n",
       "  </thead>\n",
       "  <tbody>\n",
       "    <tr>\n",
       "      <th>All_Industries</th>\n",
       "      <td>20085</td>\n",
       "      <td>14120</td>\n",
       "      <td>34205</td>\n",
       "    </tr>\n",
       "  </tbody>\n",
       "</table>\n",
       "</div>"
      ],
      "text/plain": [
       "                Under 50    50+  Total\n",
       "All_Industries     20085  14120  34205"
      ]
     },
     "execution_count": 46,
     "metadata": {},
     "output_type": "execute_result"
    }
   ],
   "source": [
    "age_all"
   ]
  },
  {
   "cell_type": "markdown",
   "metadata": {},
   "source": [
    "## Age Frontline Industries ##"
   ]
  },
  {
   "cell_type": "code",
   "execution_count": 47,
   "metadata": {},
   "outputs": [],
   "source": [
    "age = age.loc[age['INDP'].isin(frontline_industries)]"
   ]
  },
  {
   "cell_type": "code",
   "execution_count": 48,
   "metadata": {},
   "outputs": [
    {
     "data": {
      "text/html": [
       "<div>\n",
       "<style scoped>\n",
       "    .dataframe tbody tr th:only-of-type {\n",
       "        vertical-align: middle;\n",
       "    }\n",
       "\n",
       "    .dataframe tbody tr th {\n",
       "        vertical-align: top;\n",
       "    }\n",
       "\n",
       "    .dataframe thead th {\n",
       "        text-align: right;\n",
       "    }\n",
       "</style>\n",
       "<table border=\"1\" class=\"dataframe\">\n",
       "  <thead>\n",
       "    <tr style=\"text-align: right;\">\n",
       "      <th></th>\n",
       "      <th>Under 50</th>\n",
       "      <th>50+</th>\n",
       "      <th>Total</th>\n",
       "    </tr>\n",
       "  </thead>\n",
       "  <tbody>\n",
       "    <tr>\n",
       "      <th>Frontline_Industries</th>\n",
       "      <td>4140</td>\n",
       "      <td>3092</td>\n",
       "      <td>7232</td>\n",
       "    </tr>\n",
       "  </tbody>\n",
       "</table>\n",
       "</div>"
      ],
      "text/plain": [
       "                      Under 50   50+  Total\n",
       "Frontline_Industries      4140  3092   7232"
      ]
     },
     "execution_count": 48,
     "metadata": {},
     "output_type": "execute_result"
    }
   ],
   "source": [
    "age_front = age.groupby(age['AGEP']).size()\n",
    "age_front = age_front.reset_index()\n",
    "age_front = age_front.T\n",
    "age_front = age_front.rename(columns={0: \"Under 50\", 1: \"50+\"})\n",
    "age_front = age_front.rename(index={0: \"Frontline_Industries\"})\n",
    "age_front = age_front.drop('AGEP')\n",
    "age_front['Total'] = age_front['50+'] + age_front['Under 50']\n",
    "age_front"
   ]
  },
  {
   "cell_type": "markdown",
   "metadata": {},
   "source": [
    "## age groupings ##"
   ]
  },
  {
   "cell_type": "code",
   "execution_count": 49,
   "metadata": {},
   "outputs": [
    {
     "data": {
      "text/html": [
       "<div>\n",
       "<style scoped>\n",
       "    .dataframe tbody tr th:only-of-type {\n",
       "        vertical-align: middle;\n",
       "    }\n",
       "\n",
       "    .dataframe tbody tr th {\n",
       "        vertical-align: top;\n",
       "    }\n",
       "\n",
       "    .dataframe thead th {\n",
       "        text-align: right;\n",
       "    }\n",
       "</style>\n",
       "<table border=\"1\" class=\"dataframe\">\n",
       "  <thead>\n",
       "    <tr style=\"text-align: right;\">\n",
       "      <th></th>\n",
       "      <th>AGEP</th>\n",
       "      <th>INDP</th>\n",
       "    </tr>\n",
       "  </thead>\n",
       "  <tbody>\n",
       "    <tr>\n",
       "      <th>0</th>\n",
       "      <td>0</td>\n",
       "      <td>Health_Care</td>\n",
       "    </tr>\n",
       "    <tr>\n",
       "      <th>9</th>\n",
       "      <td>0</td>\n",
       "      <td>Health_Care</td>\n",
       "    </tr>\n",
       "    <tr>\n",
       "      <th>25</th>\n",
       "      <td>0</td>\n",
       "      <td>Health_Care</td>\n",
       "    </tr>\n",
       "    <tr>\n",
       "      <th>37</th>\n",
       "      <td>1</td>\n",
       "      <td>Health_Care</td>\n",
       "    </tr>\n",
       "    <tr>\n",
       "      <th>42</th>\n",
       "      <td>0</td>\n",
       "      <td>Public_Transit</td>\n",
       "    </tr>\n",
       "    <tr>\n",
       "      <th>...</th>\n",
       "      <td>...</td>\n",
       "      <td>...</td>\n",
       "    </tr>\n",
       "    <tr>\n",
       "      <th>34188</th>\n",
       "      <td>0</td>\n",
       "      <td>Convenience_Stores</td>\n",
       "    </tr>\n",
       "    <tr>\n",
       "      <th>34192</th>\n",
       "      <td>0</td>\n",
       "      <td>Building_Cleaning</td>\n",
       "    </tr>\n",
       "    <tr>\n",
       "      <th>34196</th>\n",
       "      <td>1</td>\n",
       "      <td>Public_Transit</td>\n",
       "    </tr>\n",
       "    <tr>\n",
       "      <th>34203</th>\n",
       "      <td>1</td>\n",
       "      <td>Convenience_Stores</td>\n",
       "    </tr>\n",
       "    <tr>\n",
       "      <th>34204</th>\n",
       "      <td>0</td>\n",
       "      <td>Health_Care</td>\n",
       "    </tr>\n",
       "  </tbody>\n",
       "</table>\n",
       "<p>7232 rows × 2 columns</p>\n",
       "</div>"
      ],
      "text/plain": [
       "       AGEP                INDP\n",
       "0         0         Health_Care\n",
       "9         0         Health_Care\n",
       "25        0         Health_Care\n",
       "37        1         Health_Care\n",
       "42        0      Public_Transit\n",
       "...     ...                 ...\n",
       "34188     0  Convenience_Stores\n",
       "34192     0   Building_Cleaning\n",
       "34196     1      Public_Transit\n",
       "34203     1  Convenience_Stores\n",
       "34204     0         Health_Care\n",
       "\n",
       "[7232 rows x 2 columns]"
      ]
     },
     "execution_count": 49,
     "metadata": {},
     "output_type": "execute_result"
    }
   ],
   "source": [
    "convert_industry_codes(age)"
   ]
  },
  {
   "cell_type": "code",
   "execution_count": 50,
   "metadata": {},
   "outputs": [],
   "source": [
    "age = age.groupby(['INDP', 'AGEP']).size()\n",
    "\n",
    "age = age.unstack('AGEP')\n",
    "age.columns=['50+', 'Under 50']\n",
    "\n",
    "age.fillna(0, inplace = True)\n",
    "\n",
    "age['Total'] = age['50+'] + age['Under 50']"
   ]
  },
  {
   "cell_type": "code",
   "execution_count": 51,
   "metadata": {},
   "outputs": [
    {
     "data": {
      "text/html": [
       "<div>\n",
       "<style scoped>\n",
       "    .dataframe tbody tr th:only-of-type {\n",
       "        vertical-align: middle;\n",
       "    }\n",
       "\n",
       "    .dataframe tbody tr th {\n",
       "        vertical-align: top;\n",
       "    }\n",
       "\n",
       "    .dataframe thead th {\n",
       "        text-align: right;\n",
       "    }\n",
       "</style>\n",
       "<table border=\"1\" class=\"dataframe\">\n",
       "  <thead>\n",
       "    <tr style=\"text-align: right;\">\n",
       "      <th></th>\n",
       "      <th>50+</th>\n",
       "      <th>Under 50</th>\n",
       "      <th>Total</th>\n",
       "    </tr>\n",
       "    <tr>\n",
       "      <th>INDP</th>\n",
       "      <th></th>\n",
       "      <th></th>\n",
       "      <th></th>\n",
       "    </tr>\n",
       "  </thead>\n",
       "  <tbody>\n",
       "    <tr>\n",
       "      <th>Building_Cleaning</th>\n",
       "      <td>146</td>\n",
       "      <td>121</td>\n",
       "      <td>267</td>\n",
       "    </tr>\n",
       "    <tr>\n",
       "      <th>Child_Care</th>\n",
       "      <td>455</td>\n",
       "      <td>347</td>\n",
       "      <td>802</td>\n",
       "    </tr>\n",
       "    <tr>\n",
       "      <th>Convenience_Stores</th>\n",
       "      <td>850</td>\n",
       "      <td>462</td>\n",
       "      <td>1312</td>\n",
       "    </tr>\n",
       "    <tr>\n",
       "      <th>Health_Care</th>\n",
       "      <td>2325</td>\n",
       "      <td>1758</td>\n",
       "      <td>4083</td>\n",
       "    </tr>\n",
       "    <tr>\n",
       "      <th>Postal_Service</th>\n",
       "      <td>273</td>\n",
       "      <td>319</td>\n",
       "      <td>592</td>\n",
       "    </tr>\n",
       "    <tr>\n",
       "      <th>Public_Transit</th>\n",
       "      <td>91</td>\n",
       "      <td>85</td>\n",
       "      <td>176</td>\n",
       "    </tr>\n",
       "  </tbody>\n",
       "</table>\n",
       "</div>"
      ],
      "text/plain": [
       "                     50+  Under 50  Total\n",
       "INDP                                     \n",
       "Building_Cleaning    146       121    267\n",
       "Child_Care           455       347    802\n",
       "Convenience_Stores   850       462   1312\n",
       "Health_Care         2325      1758   4083\n",
       "Postal_Service       273       319    592\n",
       "Public_Transit        91        85    176"
      ]
     },
     "execution_count": 51,
     "metadata": {},
     "output_type": "execute_result"
    }
   ],
   "source": [
    "age"
   ]
  },
  {
   "cell_type": "markdown",
   "metadata": {},
   "source": [
    "## Combine age data frames ##"
   ]
  },
  {
   "cell_type": "code",
   "execution_count": 52,
   "metadata": {},
   "outputs": [
    {
     "name": "stderr",
     "output_type": "stream",
     "text": [
      "<ipython-input-52-60bdd92a6102>:1: FutureWarning: Sorting because non-concatenation axis is not aligned. A future version\n",
      "of pandas will change to not sort by default.\n",
      "\n",
      "To accept the future behavior, pass 'sort=False'.\n",
      "\n",
      "To retain the current behavior and silence the warning, pass 'sort=True'.\n",
      "\n",
      "  age_combined = pd.concat([age_all, age_front, age])\n"
     ]
    },
    {
     "data": {
      "text/html": [
       "<div>\n",
       "<style scoped>\n",
       "    .dataframe tbody tr th:only-of-type {\n",
       "        vertical-align: middle;\n",
       "    }\n",
       "\n",
       "    .dataframe tbody tr th {\n",
       "        vertical-align: top;\n",
       "    }\n",
       "\n",
       "    .dataframe thead th {\n",
       "        text-align: right;\n",
       "    }\n",
       "</style>\n",
       "<table border=\"1\" class=\"dataframe\">\n",
       "  <thead>\n",
       "    <tr style=\"text-align: right;\">\n",
       "      <th></th>\n",
       "      <th>Industry</th>\n",
       "      <th>Total</th>\n",
       "      <th>% 50+</th>\n",
       "      <th>% Under 50</th>\n",
       "    </tr>\n",
       "  </thead>\n",
       "  <tbody>\n",
       "    <tr>\n",
       "      <th>0</th>\n",
       "      <td>All_Industries</td>\n",
       "      <td>34205</td>\n",
       "      <td>41.3</td>\n",
       "      <td>58.7</td>\n",
       "    </tr>\n",
       "    <tr>\n",
       "      <th>1</th>\n",
       "      <td>Frontline_Industries</td>\n",
       "      <td>7232</td>\n",
       "      <td>42.8</td>\n",
       "      <td>57.2</td>\n",
       "    </tr>\n",
       "    <tr>\n",
       "      <th>2</th>\n",
       "      <td>Building_Cleaning</td>\n",
       "      <td>267</td>\n",
       "      <td>54.7</td>\n",
       "      <td>45.3</td>\n",
       "    </tr>\n",
       "    <tr>\n",
       "      <th>3</th>\n",
       "      <td>Child_Care</td>\n",
       "      <td>802</td>\n",
       "      <td>56.7</td>\n",
       "      <td>43.3</td>\n",
       "    </tr>\n",
       "    <tr>\n",
       "      <th>4</th>\n",
       "      <td>Convenience_Stores</td>\n",
       "      <td>1312</td>\n",
       "      <td>64.8</td>\n",
       "      <td>35.2</td>\n",
       "    </tr>\n",
       "    <tr>\n",
       "      <th>5</th>\n",
       "      <td>Health_Care</td>\n",
       "      <td>4083</td>\n",
       "      <td>56.9</td>\n",
       "      <td>43.1</td>\n",
       "    </tr>\n",
       "    <tr>\n",
       "      <th>6</th>\n",
       "      <td>Postal_Service</td>\n",
       "      <td>592</td>\n",
       "      <td>46.1</td>\n",
       "      <td>53.9</td>\n",
       "    </tr>\n",
       "    <tr>\n",
       "      <th>7</th>\n",
       "      <td>Public_Transit</td>\n",
       "      <td>176</td>\n",
       "      <td>51.7</td>\n",
       "      <td>48.3</td>\n",
       "    </tr>\n",
       "  </tbody>\n",
       "</table>\n",
       "</div>"
      ],
      "text/plain": [
       "               Industry  Total  % 50+  % Under 50\n",
       "0        All_Industries  34205   41.3        58.7\n",
       "1  Frontline_Industries   7232   42.8        57.2\n",
       "2     Building_Cleaning    267   54.7        45.3\n",
       "3            Child_Care    802   56.7        43.3\n",
       "4    Convenience_Stores   1312   64.8        35.2\n",
       "5           Health_Care   4083   56.9        43.1\n",
       "6        Postal_Service    592   46.1        53.9\n",
       "7        Public_Transit    176   51.7        48.3"
      ]
     },
     "execution_count": 52,
     "metadata": {},
     "output_type": "execute_result"
    }
   ],
   "source": [
    "age_combined = pd.concat([age_all, age_front, age])\n",
    "\n",
    "age_combined['% 50+'] = ((age_combined['50+'] / age_combined['Total']) * 100).apply(lambda x: round(x, 1))\n",
    "age_combined['% Under 50'] = ((age_combined['Under 50'] / age_combined['Total']) * 100).apply(lambda x: round(x, 1))\n",
    "\n",
    "age_combined = age_combined.reset_index()\n",
    "\n",
    "age_final = pd.DataFrame(age_combined[['index', 'Total', '% 50+', '% Under 50']])\n",
    "\n",
    "age_final.columns = ['Industry', 'Total', '% 50+', '% Under 50']\n",
    "\n",
    "age_final"
   ]
  },
  {
   "cell_type": "code",
   "execution_count": 45,
   "metadata": {},
   "outputs": [],
   "source": [
    "age_fun =  format_dataframes(age, 'AGEP', '50+', 'Under 50')"
   ]
  },
  {
   "cell_type": "code",
   "execution_count": 40,
   "metadata": {},
   "outputs": [
    {
     "name": "stderr",
     "output_type": "stream",
     "text": [
      "c:\\users\\kab0320\\appdata\\local\\programs\\python\\python38\\lib\\site-packages\\pandas\\core\\frame.py:4272: SettingWithCopyWarning: \n",
      "A value is trying to be set on a copy of a slice from a DataFrame\n",
      "\n",
      "See the caveats in the documentation: http://pandas.pydata.org/pandas-docs/stable/user_guide/indexing.html#returning-a-view-versus-a-copy\n",
      "  return super().replace(\n"
     ]
    }
   ],
   "source": [
    "gender_fun = format_dataframes(gender, 'SEX', 'Male', 'Female')"
   ]
  },
  {
   "cell_type": "code",
   "execution_count": 41,
   "metadata": {},
   "outputs": [
    {
     "data": {
      "text/html": [
       "<div>\n",
       "<style scoped>\n",
       "    .dataframe tbody tr th:only-of-type {\n",
       "        vertical-align: middle;\n",
       "    }\n",
       "\n",
       "    .dataframe tbody tr th {\n",
       "        vertical-align: top;\n",
       "    }\n",
       "\n",
       "    .dataframe thead th {\n",
       "        text-align: right;\n",
       "    }\n",
       "</style>\n",
       "<table border=\"1\" class=\"dataframe\">\n",
       "  <thead>\n",
       "    <tr style=\"text-align: right;\">\n",
       "      <th></th>\n",
       "      <th>Industry</th>\n",
       "      <th>Total</th>\n",
       "      <th>% Female</th>\n",
       "      <th>% Male</th>\n",
       "    </tr>\n",
       "  </thead>\n",
       "  <tbody>\n",
       "    <tr>\n",
       "      <th>0</th>\n",
       "      <td>All_Industries</td>\n",
       "      <td>34205</td>\n",
       "      <td>50.9</td>\n",
       "      <td>49.1</td>\n",
       "    </tr>\n",
       "    <tr>\n",
       "      <th>1</th>\n",
       "      <td>Frontline_Industries</td>\n",
       "      <td>7232</td>\n",
       "      <td>66.3</td>\n",
       "      <td>33.7</td>\n",
       "    </tr>\n",
       "    <tr>\n",
       "      <th>2</th>\n",
       "      <td>Building_Cleaning</td>\n",
       "      <td>267</td>\n",
       "      <td>44.6</td>\n",
       "      <td>55.4</td>\n",
       "    </tr>\n",
       "    <tr>\n",
       "      <th>3</th>\n",
       "      <td>Child_Care</td>\n",
       "      <td>802</td>\n",
       "      <td>85.5</td>\n",
       "      <td>14.5</td>\n",
       "    </tr>\n",
       "    <tr>\n",
       "      <th>4</th>\n",
       "      <td>Convenience_Stores</td>\n",
       "      <td>1312</td>\n",
       "      <td>50.3</td>\n",
       "      <td>49.7</td>\n",
       "    </tr>\n",
       "    <tr>\n",
       "      <th>5</th>\n",
       "      <td>Health_Care</td>\n",
       "      <td>4083</td>\n",
       "      <td>75.3</td>\n",
       "      <td>24.7</td>\n",
       "    </tr>\n",
       "    <tr>\n",
       "      <th>6</th>\n",
       "      <td>Postal_Service</td>\n",
       "      <td>592</td>\n",
       "      <td>29.4</td>\n",
       "      <td>70.6</td>\n",
       "    </tr>\n",
       "    <tr>\n",
       "      <th>7</th>\n",
       "      <td>Public_Transit</td>\n",
       "      <td>176</td>\n",
       "      <td>48.9</td>\n",
       "      <td>51.1</td>\n",
       "    </tr>\n",
       "  </tbody>\n",
       "</table>\n",
       "</div>"
      ],
      "text/plain": [
       "               Industry  Total  % Female  % Male\n",
       "0        All_Industries  34205      50.9    49.1\n",
       "1  Frontline_Industries   7232      66.3    33.7\n",
       "2     Building_Cleaning    267      44.6    55.4\n",
       "3            Child_Care    802      85.5    14.5\n",
       "4    Convenience_Stores   1312      50.3    49.7\n",
       "5           Health_Care   4083      75.3    24.7\n",
       "6        Postal_Service    592      29.4    70.6\n",
       "7        Public_Transit    176      48.9    51.1"
      ]
     },
     "execution_count": 41,
     "metadata": {},
     "output_type": "execute_result"
    }
   ],
   "source": [
    "gender_fun"
   ]
  },
  {
   "cell_type": "code",
   "execution_count": null,
   "metadata": {},
   "outputs": [],
   "source": []
  }
 ],
 "metadata": {
  "kernelspec": {
   "display_name": "Python 3",
   "language": "python",
   "name": "python3"
  },
  "language_info": {
   "codemirror_mode": {
    "name": "ipython",
    "version": 3
   },
   "file_extension": ".py",
   "mimetype": "text/x-python",
   "name": "python",
   "nbconvert_exporter": "python",
   "pygments_lexer": "ipython3",
   "version": "3.8.0"
  }
 },
 "nbformat": 4,
 "nbformat_minor": 4
}
