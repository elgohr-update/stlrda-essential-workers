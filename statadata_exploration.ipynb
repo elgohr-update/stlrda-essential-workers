{
 "cells": [
  {
   "cell_type": "code",
   "execution_count": null,
   "metadata": {},
   "outputs": [],
   "source": [
    "import pandas as pd\n",
    "import censusdata\n",
    "\n",
    "from scripts.FetchCensusCodes import fetch_county_code \n",
    "\n",
    "MO_metro_county_codes = [fetch_county_code(county) for county in MO_metro_counties]\n",
    "IL_metro_county_codes = [fetch_county_code(county, state=\"Illinois\") for county in IL_metro_counties]"
   ]
  },
  {
   "cell_type": "code",
   "execution_count": 2,
   "metadata": {},
   "outputs": [],
   "source": [
    "survey = \"acs5\"\n",
    "year = 2018\n",
    "state = \"Missouri\"\n",
    "metro_area = \"St. Louis\"\n",
    "MO_metro_counties = [\"Franklin\", \"Jefferson\", \"Lincoln\", \"St. Charles\", \"St. Louis city\", \"St. Louis\", \"Warren\"]\n",
    "IL_metro_counties = [\"Bond\", \"Calhoun\", \"Clinton\", \"Jersey\", \"Macoupin\", \"Madison\", \"Monroe\", \"St. Clair\"]"
   ]
  },
  {
   "cell_type": "code",
   "execution_count": 3,
   "metadata": {},
   "outputs": [],
   "source": [
    "MO_county_fips = []\n",
    "IL_county_fips = []\n"
   ]
  },
  {
   "cell_type": "code",
   "execution_count": 4,
   "metadata": {},
   "outputs": [],
   "source": [
    "for county in MO_metro_counties:\n",
    "    MO_county_fips.append(fetch_county_code(county, state='Missouri', survey=survey, year=year))"
   ]
  },
  {
   "cell_type": "code",
   "execution_count": 5,
   "metadata": {},
   "outputs": [],
   "source": [
    "for county in IL_metro_counties:\n",
    "    IL_county_fips.append(fetch_county_code(county, state='Illinois', survey=survey, year=year))"
   ]
  },
  {
   "cell_type": "code",
   "execution_count": 6,
   "metadata": {},
   "outputs": [
    {
     "data": {
      "text/plain": [
       "['071', '099', '113', '183', '510', '189', '219']"
      ]
     },
     "execution_count": 6,
     "metadata": {},
     "output_type": "execute_result"
    }
   ],
   "source": [
    "MO_county_fips"
   ]
  },
  {
   "cell_type": "code",
   "execution_count": null,
   "metadata": {},
   "outputs": [],
   "source": []
  },
  {
   "cell_type": "code",
   "execution_count": 65,
   "metadata": {},
   "outputs": [],
   "source": [
    "df = pd.read_stata('resources/epi_cpsbasic_2000_2020/epi_cpsbasic_2019.dta')"
   ]
  },
  {
   "cell_type": "code",
   "execution_count": 66,
   "metadata": {},
   "outputs": [
    {
     "name": "stdout",
     "output_type": "stream",
     "text": [
      "['year', 'month', 'minsamp', 'hrhhid', 'hrhhid2', 'hrsample', 'hrsersuf', 'huhhnum', 'pulineno', 'unicon_recnum', 'hhid', 'famid', 'personid', 'proxy', 'hhtype', 'famtype', 'finalwgt', 'cmpwgt', 'basicwgt', 'orgwgt', 'hhwgt', 'famwgt', 'statecensus', 'division', 'region', 'statefips', 'countyfips', 'cbsafips', 'metstat', 'cbsasize', 'age', 'female', 'hispanic', 'wbho', 'wbhao', 'wbhom', 'wbhaom', 'raceorig', 'wbo_only', 'wbho_only', 'citistat', 'citizen', 'married', 'veteran', 'gradecom', 'gradehi', 'gradeatn', 'educ', 'lfstat', 'dlfstat', 'emp', 'emphrs', 'unemp', 'nilf', 'schenrl', 'samejob', 'whyabsent', 'whyunemp', 'selfemp', 'selfinc', 'cow1', 'cow2', 'multjobs', 'numjobs', 'unmem', 'uncov', 'union', 'pubsec', 'publoc', 'pubst', 'pubfed', 'unempdur', 'lookdur', 'discwork', 'ptecon', 'ftptstat', 'paidhre', 'hoursu1', 'hoursu2', 'hoursut', 'hourslw1', 'hourslw2', 'hourslwt', 'hoursumay', 'hoursuorg', 'hoursvary', 'hoursuint', 'ind70', 'ind80', 'ind90', 'ind02', 'ind07', 'ind12', 'ind17', 'mind16', 'manuf', 'dind03', 'mind03', 'occ70', 'occ80', 'occ90', 'occ00', 'occ10', 'occ18', 'mocc10', 'mocc03', 'docc03', 'weekpay_noadj', 'tc_weekpay', 'a_weekpay', 'earnhour', 'a_earnhour', 'otcrec', 'otcamt', 'wage_noadj', 'wageotc_noadj', 'faminc', 'ownchild', 'famrel', 'agechild', 'hoursu1i', 'weekpay', 'wage', 'wageotc']\n"
     ]
    }
   ],
   "source": [
    "column_names = df.columns.values.tolist()\n",
    "print (column_names)"
   ]
  },
  {
   "cell_type": "code",
   "execution_count": 67,
   "metadata": {},
   "outputs": [],
   "source": [
    "MOdf = df[df['statefips'].isin(['MO'])]"
   ]
  },
  {
   "cell_type": "code",
   "execution_count": 76,
   "metadata": {},
   "outputs": [],
   "source": [
    "MOMetro = MOdf[MOdf['countyfips'] == 183]"
   ]
  },
  {
   "cell_type": "code",
   "execution_count": 69,
   "metadata": {},
   "outputs": [],
   "source": [
    "franklin = MOdf['countyfips'] == 71\n",
    "jefferson = MOdf['countyfips'] == 99\n",
    "lincoln = MOdf['countyfips'] == 113\n",
    "stcharles = MOdf['countyfips'] == 183\n",
    "stlc = MOdf['countyfips'] == 510\n",
    "stl = MOdf['countyfips'] == 189\n",
    "warren = MOdf['countyfips'] == 219"
   ]
  },
  {
   "cell_type": "code",
   "execution_count": 77,
   "metadata": {},
   "outputs": [
    {
     "data": {
      "text/html": [
       "<div>\n",
       "<style scoped>\n",
       "    .dataframe tbody tr th:only-of-type {\n",
       "        vertical-align: middle;\n",
       "    }\n",
       "\n",
       "    .dataframe tbody tr th {\n",
       "        vertical-align: top;\n",
       "    }\n",
       "\n",
       "    .dataframe thead th {\n",
       "        text-align: right;\n",
       "    }\n",
       "</style>\n",
       "<table border=\"1\" class=\"dataframe\">\n",
       "  <thead>\n",
       "    <tr style=\"text-align: right;\">\n",
       "      <th></th>\n",
       "      <th>a_earnhour</th>\n",
       "      <th>a_weekpay</th>\n",
       "      <th>dind03</th>\n",
       "      <th>ind17</th>\n",
       "      <th>statefips</th>\n",
       "      <th>countyfips</th>\n",
       "    </tr>\n",
       "  </thead>\n",
       "  <tbody>\n",
       "  </tbody>\n",
       "</table>\n",
       "</div>"
      ],
      "text/plain": [
       "Empty DataFrame\n",
       "Columns: [a_earnhour, a_weekpay, dind03, ind17, statefips, countyfips]\n",
       "Index: []"
      ]
     },
     "execution_count": 77,
     "metadata": {},
     "output_type": "execute_result"
    }
   ],
   "source": [
    "MOMetro[['a_earnhour', 'a_weekpay', 'dind03', 'ind17','statefips', 'countyfips']]"
   ]
  },
  {
   "cell_type": "code",
   "execution_count": 22,
   "metadata": {},
   "outputs": [],
   "source": [
    "MOMetro = MOdf.where(franklin | jefferson | lincoln | stcharles | stlc | stl | warren)"
   ]
  },
  {
   "cell_type": "code",
   "execution_count": 14,
   "metadata": {
    "scrolled": true
   },
   "outputs": [],
   "source": [
    "MOMetro = MOdf.where(franklin)"
   ]
  },
  {
   "cell_type": "code",
   "execution_count": null,
   "metadata": {},
   "outputs": [],
   "source": []
  }
 ],
 "metadata": {
  "kernelspec": {
   "display_name": "Python 3",
   "language": "python",
   "name": "python3"
  },
  "language_info": {
   "codemirror_mode": {
    "name": "ipython",
    "version": 3
   },
   "file_extension": ".py",
   "mimetype": "text/x-python",
   "name": "python",
   "nbconvert_exporter": "python",
   "pygments_lexer": "ipython3",
   "version": "3.8.0"
  }
 },
 "nbformat": 4,
 "nbformat_minor": 4
}
